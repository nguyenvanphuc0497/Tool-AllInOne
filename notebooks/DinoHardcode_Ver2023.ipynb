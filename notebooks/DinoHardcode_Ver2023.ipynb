{
 "cells": [
  {
   "cell_type": "code",
   "execution_count": null,
   "metadata": {},
   "outputs": [],
   "source": [
    "!.venv/bin/activate \n",
    "%pip install opencv-python\n",
    "%pip install keras\n",
    "%pip install tensorflow\n",
    "%pip install selenium\n",
    "%pip install Pillow\n",
    "%pip install pandas\n",
    "%pip install webdriver-manager\n"
   ]
  },
  {
   "cell_type": "code",
   "execution_count": 10,
   "metadata": {},
   "outputs": [
    {
     "name": "stdout",
     "output_type": "stream",
     "text": [
      "continue with \n"
     ]
    },
    {
     "ename": "AttributeError",
     "evalue": "'GameDino' object has no attribute 'get_speed'",
     "output_type": "error",
     "traceback": [
      "\u001b[0;31m---------------------------------------------------------------------------\u001b[0m",
      "\u001b[0;31mAttributeError\u001b[0m                            Traceback (most recent call last)",
      "Cell \u001b[0;32mIn[10], line 8\u001b[0m\n\u001b[1;32m      6\u001b[0m \u001b[39mwhile\u001b[39;00m (\u001b[39mTrue\u001b[39;00m):\n\u001b[1;32m      7\u001b[0m     time\u001b[39m.\u001b[39msleep(\u001b[39m1\u001b[39m)\n\u001b[0;32m----> 8\u001b[0m     score \u001b[39m=\u001b[39m dinoPlayer\u001b[39m.\u001b[39;49mget_speed()\n\u001b[1;32m      9\u001b[0m     \u001b[39mprint\u001b[39m(score)\n",
      "\u001b[0;31mAttributeError\u001b[0m: 'GameDino' object has no attribute 'get_speed'"
     ]
    }
   ],
   "source": [
    "import SeleniumHelper\n",
    "import time\n",
    "\n",
    "dinoPlayer = SeleniumHelper.GameDino()\n",
    "\n",
    "while (True):\n",
    "    time.sleep(1)\n",
    "    score = dinoPlayer.get_speed()\n",
    "    print(score)"
   ]
  },
  {
   "cell_type": "code",
   "execution_count": null,
   "metadata": {},
   "outputs": [],
   "source": []
  }
 ],
 "metadata": {
  "kernelspec": {
   "display_name": ".venv",
   "language": "python",
   "name": "python3"
  },
  "language_info": {
   "codemirror_mode": {
    "name": "ipython",
    "version": 3
   },
   "file_extension": ".py",
   "mimetype": "text/x-python",
   "name": "python",
   "nbconvert_exporter": "python",
   "pygments_lexer": "ipython3",
   "version": "3.9.6"
  },
  "orig_nbformat": 4
 },
 "nbformat": 4,
 "nbformat_minor": 2
}
