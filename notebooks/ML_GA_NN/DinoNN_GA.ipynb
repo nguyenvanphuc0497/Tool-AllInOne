{
 "cells": [
  {
   "cell_type": "markdown",
   "metadata": {},
   "source": [
    "# Pre-condition: Setup Environment, download and install Lib"
   ]
  },
  {
   "cell_type": "code",
   "execution_count": null,
   "metadata": {},
   "outputs": [],
   "source": [
    "!.venv/bin/activate \n",
    "%pip install selenium\n",
    "%pip install Pillow\n",
    "%pip install pandas\n",
    "%pip install webdriver-manager\n"
   ]
  },
  {
   "cell_type": "markdown",
   "metadata": {},
   "source": [
    "# Ý tưởng thực hiện\n",
    "- Tạo ra 1 `model` để từ trạng thái của game đưa ra quyết định (nhảy/không nhảy). \n",
    "- Lựa chọn các trạng thái game nào: `speed` (speed hiện tại của màn chơi), `distance` (khoảng cách từ khủng long tới cây xương rồng gần nhất), `size` (kích thước của cây xương rồng). \n",
    "- Tại sao lại lựa chọn những input này?"
   ]
  },
  {
   "cell_type": "markdown",
   "metadata": {},
   "source": [
    "# Lựa chọn model\n",
    "- Mở rộng từ phiên bản bot hardcode.\n",
    "Như đã thực hiện ở phần 1, chúng ta có thể tạo ra 1 phiên bản hardcode chỉ từ việc check xem 1 vùng trước mặt của khủng long có xương rồng hay không. Điều này cho thấy ta có thể xây dựng model không mấy phức tạp và vẫn có thể giải quyết được bài toán.\n",
    "\n",
    "- Bài toán có thể giải quyết được với nhiều model, ví dụ logistic, decision tree,… \n",
    "- Tuy nhiên lựa chọn Neural network để giải quyết bài toán này. Lý do lựa chọn Neural network là bởi:\n",
    "  - Tôi mới tìm hiểu Neural network, thấy khá thú vị và rộng nên muốn tìm hiểu sâu vào NN trước đã.\n",
    "  - Sử dụng Neural network thì có thể giải quyết cho các bài toán khác sau này( có thể làm tiếp cho 1 game nào đó).\n",
    "  - Neural network phổ biến đại trà.\n",
    "\n",
    "Ok. Vậy chúng ta sẽ lựa chọn các hyper-param như nào cho Neural network của mình? Tôi lựa chọn size 3-3-1 (1 Hidden layer với 3 nodes), lý do bởi \b\bvì tôi nghĩ 1 cấu trúc đơn giản như vậy cũng có thể giải quyết bài toán. Output của Neural network sẽ là 1 giá trị action_value, nếu action_value lớn hơn 1 threshold nào đó thì sẽ quyết định sẽ nhảy, còn lại thì không."
   ]
  },
  {
   "cell_type": "markdown",
   "metadata": {},
   "source": [
    "# Code phần Neural network\n",
    "Tạo được 1 model NN, có cấu trúc [3,3,1] với input đầu vào là input_set = [distance, speed, size], và cho ra output là hành động. Phần này được tôi tạo riêng ở file trex_nn.py.\n"
   ]
  },
  {
   "cell_type": "code",
   "execution_count": 3,
   "metadata": {},
   "outputs": [],
   "source": [
    "# Trước hết chúng ta import các package cần thiết. Ở đây import numpy để thực hiện tính toán.\n",
    "import numpy as np"
   ]
  },
  {
   "cell_type": "markdown",
   "metadata": {},
   "source": [
    "##### Chúng ta define hàm activation function trong NN sigmoid\n",
    "- f(X)→Y\n",
    "\n",
    "  \n",
    "![Alt text](image-4.png)\n",
    "\n",
    "- Hàm Sigmoid nhận đầu vào là một số thực và chuyển thành một giá trị trong khoảng (0;1) (xem đồ thị phía trên), \n",
    "- Đầu vào là số thực âm rất nhỏ sẽ cho đầu ra tiệm cận với 0, ngược lại, nếu đầu vào là một số thực dương lớn sẽ cho đầu ra là một số tiệm cận với 1."
   ]
  },
  {
   "cell_type": "code",
   "execution_count": 20,
   "metadata": {},
   "outputs": [],
   "source": [
    "def sigmoid(z):\n",
    "    s = 1 / (1 + np.exp(-z))\n",
    "    return s\n"
   ]
  },
  {
   "cell_type": "markdown",
   "metadata": {},
   "source": [
    "##### Chúng ta cần 1 hàm initialize_parameters để tạo ra các giá trị random ban đầu cho NN. Input đầu vào sẽ là kích thước của NN. Chú ý, chúng ta \bsẽ nhân các weight và bias với các hệ số riêng, lý do là để scale các giá trị lại với nhau để model hội tụ nhanh hơn."
   ]
  },
  {
   "cell_type": "code",
   "execution_count": 15,
   "metadata": {},
   "outputs": [
    {
     "data": {
      "text/plain": [
       "{'W1': array([[ 0.00251517,  0.00503115,  0.00045619],\n",
       "        [-0.00863823, -0.02753583,  0.00938206],\n",
       "        [ 0.01161742, -0.01942946, -0.01593131]]),\n",
       " 'b1': array([[-0.31193358],\n",
       "        [-0.36909341],\n",
       "        [-0.46036796]]),\n",
       " 'W2': array([[-0.06776857, -1.89520517, -0.8017499 ]]),\n",
       " 'b2': array([[-0.22172578]])}"
      ]
     },
     "metadata": {},
     "output_type": "display_data"
    }
   ],
   "source": [
    "def initialize_parameters(n_x=3, n_h=3, n_y=1):\n",
    "    \"\"\"\n",
    "    Argument:\n",
    "    n_x -- size of the input layer\n",
    "    n_h -- size of the hidden layer\n",
    "    n_y -- size of the output layer\n",
    "\n",
    "    Returns:\n",
    "    params -- python dictionary containing your parameters:\n",
    "                    W1 -- weight matrix of shape (n_h, n_x)\n",
    "                    b1 -- bias vector of shape (n_h, 1)\n",
    "                    W2 -- weight matrix of shape (n_y, n_h)\n",
    "                    b2 -- bias vector of shape (n_y, 1)\n",
    "    \"\"\"\n",
    "\n",
    "    W1 = np.random.randn(n_h, n_x) * 0.01\n",
    "    b1 = np.random.randn(n_h, 1) * 0.5\n",
    "    W2 = np.random.randn(n_y, n_h) * 1.5\n",
    "    b2 = np.random.randn(n_y, 1) * 0.15\n",
    "\n",
    "    parameters = {\"W1\": W1,\n",
    "                  \"b1\": b1,\n",
    "                  \"W2\": W2,\n",
    "                  \"b2\": b2}\n",
    "\n",
    "    return parameters\n",
    "\n",
    "\n",
    "display(initialize_parameters(3, 3, 1))"
   ]
  },
  {
   "cell_type": "markdown",
   "metadata": {},
   "source": [
    "##### Có 1 hàm nhỏ ta cũng phải xài là re_shape_X nhằm reshape lại input. Lý do là input chúng ta có dạng ma trận ngang input_set = [distance, speed, size], cần chỉnh sửa đôi chút về dạng ma trận dọc."
   ]
  },
  {
   "cell_type": "code",
   "execution_count": 14,
   "metadata": {},
   "outputs": [
    {
     "data": {
      "text/plain": [
       "array([[100],\n",
       "       [ 10],\n",
       "       [  1]])"
      ]
     },
     "metadata": {},
     "output_type": "display_data"
    }
   ],
   "source": [
    "def re_shape_X(X):\n",
    "    return np.reshape(X, (len(X), 1))\n",
    "\n",
    "\n",
    "display(re_shape_X([100, 10, 1]))"
   ]
  },
  {
   "cell_type": "markdown",
   "metadata": {},
   "source": [
    "##### Chúng ta dùng hàm tRex_model để tính toán output thông qua input là bộ input X, parameters. Ở đây, parameters là 1 dictionary chứa các \bparameters. Activation function được sử dụng là \bsigmoid."
   ]
  },
  {
   "cell_type": "code",
   "execution_count": 4,
   "metadata": {},
   "outputs": [],
   "source": [
    "clever_params = {\n",
    "    'b2': np.array([[0.27304736]]),\n",
    "    'W2': np.array([[0.91572382, -0.29862268,  0.30955728]]),\n",
    "    'W1': np.array([[-0.02062025,  0.00016742,  0.00381535],\n",
    "                    [0.00226537,  0.01325698,  0.02389935],\n",
    "                    [0.02300561,  0.01351209,  0.00588823]]),\n",
    "    'b1': np.array([[-0.73119972],\n",
    "                    [-0.05157346],\n",
    "                    [-0.00290758]])\n",
    "}"
   ]
  },
  {
   "cell_type": "code",
   "execution_count": 27,
   "metadata": {},
   "outputs": [
    {
     "name": "stdout",
     "output_type": "stream",
     "text": [
      "[[-0.02062025  0.00016742  0.00381535]\n",
      " [ 0.00226537  0.01325698  0.02389935]\n",
      " [ 0.02300561  0.01351209  0.00588823]]\n",
      "[[-0.73119972]\n",
      " [-0.05157346]\n",
      " [-0.00290758]]\n",
      "[[ 0.91572382 -0.29862268  0.30955728]]\n",
      "[[0.27304736]]\n"
     ]
    },
    {
     "data": {
      "text/plain": [
       "array([[0.59082604]])"
      ]
     },
     "metadata": {},
     "output_type": "display_data"
    }
   ],
   "source": [
    "def tRex_model(X, parameters):\n",
    "    \"\"\"\n",
    "    Argument:\n",
    "    X -- input data of size (n_x, m)\n",
    "    parameters -- python dictionary containing your parameters (output of initialization function)\n",
    "\n",
    "    Returns:\n",
    "    A2 -- The sigmoid output of the second activation\n",
    "    \"\"\"\n",
    "    W1 = parameters['W1']\n",
    "    b1 = parameters['b1']\n",
    "    W2 = parameters['W2']\n",
    "    b2 = parameters['b2']\n",
    "\n",
    "    print(W1)\n",
    "    print(b1)\n",
    "    print(W2)\n",
    "    print(b2)\n",
    "\n",
    "    Z1 = np.dot(W1, X) + b1\n",
    "    A1 = sigmoid(Z1)\n",
    "    Z2 = np.dot(W2, A1) + b2\n",
    "    A2 = sigmoid(Z2)\n",
    "    return A2\n",
    "\n",
    "\n",
    "input_set = [100, 11, 80]\n",
    "X_adj = re_shape_X(input_set)\n",
    "display(tRex_model(X_adj, clever_params))"
   ]
  },
  {
   "cell_type": "markdown",
   "metadata": {},
   "source": [
    "##### Và cuối cùng là hàm wrap_model để áp dụng model vào để chơi"
   ]
  },
  {
   "cell_type": "code",
   "execution_count": 22,
   "metadata": {},
   "outputs": [],
   "source": [
    "def from_model_to_action(value, threshold=0.6):\n",
    "    if value > threshold:\n",
    "        \"JUMP\"\n",
    "\n",
    "\n",
    "def wrap_model(X, parameters):\n",
    "    X_adj = re_shape_X(X)\n",
    "    action_value = tRex_model(X_adj, parameters).item()\n",
    "    from_model_to_action(action_value, threshold=0.6)"
   ]
  },
  {
   "cell_type": "markdown",
   "metadata": {},
   "source": [
    "##### Nhận diện vật thể"
   ]
  },
  {
   "cell_type": "markdown",
   "metadata": {},
   "source": [
    "##### Test thử model với param đã training"
   ]
  },
  {
   "cell_type": "code",
   "execution_count": null,
   "metadata": {},
   "outputs": [],
   "source": [
    "import notebooks.ML_GA_NN.dino_nn as dino_nn\n",
    "import SeleniumHelper\n",
    "import time\n",
    "import numpy as np\n",
    "\n",
    "clever_params = {\n",
    "    'b2': np.array([[0.27304736]]),\n",
    "    'W2': np.array([[0.91572382, -0.29862268,  0.30955728]]),\n",
    "    'W1': np.array([[-0.02062025,  0.00016742,  0.00381535],\n",
    "                    [0.00226537,  0.01325698,  0.02389935],\n",
    "                    [0.02300561,  0.01351209,  0.00588823]]),\n",
    "    'b1': np.array([[-0.73119972],\n",
    "                    [-0.05157346],\n",
    "                    [-0.00290758]])\n",
    "}\n",
    "\n",
    "dinoPlayer = SeleniumHelper.GameDino()\n",
    "dinoPlayer.press_up()\n",
    "while True:\n",
    "    time.sleep(0.01)\n",
    "\n",
    "    speed = dinoPlayer.get_current_speed()\n",
    "    distance = dinoPlayer.get_distance_obstacles()\n",
    "    size = dinoPlayer.get_size_of_obstacle()\n",
    "\n",
    "    input_set = [distance, speed, size]\n",
    "\n",
    "    if dino_nn.wrap_model(input_set, clever_params) == 'JUMP_UP':\n",
    "        dinoPlayer.wrap_press_up()"
   ]
  }
 ],
 "metadata": {
  "kernelspec": {
   "display_name": ".venv",
   "language": "python",
   "name": "python3"
  },
  "language_info": {
   "codemirror_mode": {
    "name": "ipython",
    "version": 3
   },
   "file_extension": ".py",
   "mimetype": "text/x-python",
   "name": "python",
   "nbconvert_exporter": "python",
   "pygments_lexer": "ipython3",
   "version": "3.9.6"
  },
  "orig_nbformat": 4
 },
 "nbformat": 4,
 "nbformat_minor": 2
}
