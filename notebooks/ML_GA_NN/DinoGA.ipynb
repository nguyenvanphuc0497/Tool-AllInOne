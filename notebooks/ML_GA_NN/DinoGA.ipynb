{
 "cells": [
  {
   "cell_type": "markdown",
   "metadata": {},
   "source": [
    "# Quy định khi triển khai GA\n",
    "\n",
    "- Lựa chọn encoding, mutation(đột biến): mình chọn cách chuyển các layer (weights, bias của các matrix giữa các lớp) thành 1 sequence và coi sequence này là chromosome (bạn có thể hiểu là DNA). Về phần mutation, với mỗi số trong sequence, mình sẽ có 1 xác suất nhỏ số đấy sẽ được cộng với 1 số random nào đó (khá nhỏ so với số này).\n",
    "\n",
    "- Lựa chọn hàm fitness: thay vì lấy điểm số màn chơi làm hàm fitness, mình đánh giá bot nào tốt hơn bằng cách xem bot nào xử lý các cây xương rồng tốt hơn, nghĩa là lấy số cây xương rồng mà bot vượt qua được làm hàm fitness.\n",
    "\n",
    "- Lựa chọn population, survival: mình chọn population là 12. Thực ra mình thấy 12 hơi nhỏ và có lẽ 50 là con số tốt hơn, nhưng bởi vì training trên môi trường bình thường nên khá chậm. Ví dụ như 1 cá thể tốt có thể đạt tới 500 điểm, như vậy sẽ mất vài phút để chạy xong, và như vậy 1 generation sẽ mất vài tiếng để pass tới generation mới. Về \bsurvival, mình chọn 4 cá thể có hàm fitness cao nhất để nhân giống cho thế hệ sau. Sau khi thực hiện xong project, mình nghĩ nên chọn nhiều cá thể hơn làm cha mẹ, như vậy sẽ tăng thời gian training nhưng có thể đạt được hội tụ tốt hơn. Tuy nhiên kết quả project dù sao cũng tốt với thiệt lập như này.\n",
    "\n",
    "- Lựa chọn cách crossover: mình chọn cách cắt đôi sequence để thực hiện crossover. Do ghép từ 2 cặp cắt đôi (là có cắt weights và bias) nên sẽ có 4 kết quả. Mình chọn random trong 4 kết quả này. Bạn có thể hình dung thông qua minh hoạ dưới đây. Do chỉ có 4 cha mẹ cho 1 generation mới, mình lựa chọn 1 cá thể có thể nhân giống với chính nó."
   ]
  },
  {
   "cell_type": "markdown",
   "metadata": {},
   "source": [
    "# Code phần GA"
   ]
  },
  {
   "cell_type": "code",
   "execution_count": 2,
   "metadata": {},
   "outputs": [],
   "source": [
    "import numpy as np"
   ]
  },
  {
   "cell_type": "code",
   "execution_count": 3,
   "metadata": {},
   "outputs": [],
   "source": [
    "N_X = 3\n",
    "N_H = 3\n",
    "N_Y = 1\n",
    "\n",
    "POP_SIZE = 12\n",
    "MUTATION_PROB = 0.1\n",
    "N_SIZE = 4\n",
    "RANDOM_SET = [6, 5, 4, 3]\n",
    "BODY_KEYS = [\"W1\", \"W2\", \"b1\", \"b2\"]\n",
    "MUTATION_RANGE = [0.005, 0.5, 0.2, 0.05]\n"
   ]
  },
  {
   "cell_type": "markdown",
   "metadata": {},
   "source": [
    "## 1. Initial population\n"
   ]
  },
  {
   "cell_type": "markdown",
   "metadata": {},
   "source": [
    "##### Ta cần 1 hàm tạo ra generation đầu tiên, đây là các cá thể được tạo random. Trong suy nghĩ của mình, có thể có những lần fail hoàn toàn do generation đầu quá tệ, yeah mình chạy thử thì cũng có 1 2 lần như vậy."
   ]
  },
  {
   "cell_type": "code",
   "execution_count": 5,
   "metadata": {},
   "outputs": [
    {
     "data": {
      "text/plain": [
       "array([{'W1': array([[-0.00302326, -0.00556239,  0.00522661],\n",
       "              [-0.00376682,  0.01254634, -0.01656048],\n",
       "              [ 0.00080338,  0.00949067, -0.00169025]]), 'b1': array([[0.67816698],\n",
       "              [0.52777615],\n",
       "              [0.5239842 ]]), 'W2': array([[ 1.39639392, -0.65520626,  0.02656992]]), 'b2': array([[0.00858657]])},\n",
       "       {'W1': array([[-0.00736442, -0.00571794,  0.00260728],\n",
       "              [ 0.00894329, -0.00228684,  0.00942701],\n",
       "              [-0.01749506,  0.00028303,  0.00400906]]), 'b1': array([[-0.39491711],\n",
       "              [ 0.23608448],\n",
       "              [ 0.68964694]]), 'W2': array([[ 1.62645282, -0.0363814 , -0.18950125]]), 'b2': array([[-0.04581984]])},\n",
       "       {'W1': array([[-0.01570869, -0.01025981,  0.00520108],\n",
       "              [ 0.0108056 ,  0.01624868,  0.00561545],\n",
       "              [-0.00758254, -0.00134151, -0.00725735]]), 'b1': array([[ 1.0143746 ],\n",
       "              [ 0.83292969],\n",
       "              [-1.17684671]]), 'W2': array([[ 0.10220025, -1.23213048,  1.18660284]]), 'b2': array([[-0.12271518]])},\n",
       "       {'W1': array([[ 0.01205168,  0.01516749,  0.01002476],\n",
       "              [ 0.00558946,  0.0070011 , -0.00043786],\n",
       "              [ 0.01302373,  0.00842904, -0.016511  ]]), 'b1': array([[-0.07671774],\n",
       "              [ 0.77124289],\n",
       "              [-1.08019574]]), 'W2': array([[ 0.37303584, -0.76894347, -0.98058558]]), 'b2': array([[0.09079694]])},\n",
       "       {'W1': array([[-0.00107812,  0.0031936 ,  0.01345739],\n",
       "              [ 0.01046067, -0.00914948, -0.01258568],\n",
       "              [ 0.00577723, -0.00373708,  0.01357563]]), 'b1': array([[ 0.16551204],\n",
       "              [-0.39090154],\n",
       "              [ 0.82615059]]), 'W2': array([[ 2.20981101, -2.60856319,  1.76629035]]), 'b2': array([[0.0721459]])},\n",
       "       {'W1': array([[ 0.02315713,  0.00394836,  0.00878962],\n",
       "              [-0.00560643, -0.00845753,  0.00161462],\n",
       "              [-0.00264569, -0.00164854, -0.00922119]]), 'b1': array([[ 0.3019012 ],\n",
       "              [-1.04814158],\n",
       "              [-0.07580685]]), 'W2': array([[ 1.98923452,  0.24200207, -2.0944725 ]]), 'b2': array([[0.13917888]])},\n",
       "       {'W1': array([[-0.0050297 , -0.00903897,  0.00125255],\n",
       "              [ 0.01178567, -0.0112238 , -0.01446863],\n",
       "              [ 0.0162556 , -0.00884847,  0.0123526 ]]), 'b1': array([[-0.51347774],\n",
       "              [ 0.42457542],\n",
       "              [ 0.53139325]]), 'W2': array([[ 1.33881116, -0.7621256 , -0.14068539]]), 'b2': array([[-0.07599127]])},\n",
       "       {'W1': array([[-0.00461738, -0.00243436, -0.01840805],\n",
       "              [ 0.0049213 ,  0.00094687,  0.00192654],\n",
       "              [ 0.00192697, -0.01824082,  0.00088174]]), 'b1': array([[ 0.10660866],\n",
       "              [-0.48302798],\n",
       "              [ 0.24968032]]), 'W2': array([[-1.2053673 , -1.31166755, -1.04900811]]), 'b2': array([[0.06570685]])},\n",
       "       {'W1': array([[ 0.0015092 ,  0.02005164,  0.00822969],\n",
       "              [ 0.00174654,  0.01212179, -0.0074801 ],\n",
       "              [ 0.00182462, -0.0015846 ,  0.00539189]]), 'b1': array([[0.19586248],\n",
       "              [0.08636752],\n",
       "              [0.14462448]]), 'W2': array([[-1.33122889,  0.66227444,  1.980931  ]]), 'b2': array([[-0.09502414]])},\n",
       "       {'W1': array([[ 0.00677378, -0.00575999,  0.00336838],\n",
       "              [-0.00201942,  0.00388887,  0.00318558],\n",
       "              [-0.00054983, -0.00171323,  0.01735735]]), 'b1': array([[ 0.466421  ],\n",
       "              [-0.13804328],\n",
       "              [ 0.13723103]]), 'W2': array([[-2.6718361 ,  0.96900785,  1.94755446]]), 'b2': array([[-0.0864338]])},\n",
       "       {'W1': array([[ 0.01022863,  0.0233478 , -0.01511842],\n",
       "              [ 0.00449285, -0.00232612, -0.004531  ],\n",
       "              [-0.01512786, -0.00318579,  0.01762289]]), 'b1': array([[-0.78248937],\n",
       "              [-0.21635898],\n",
       "              [-0.58450234]]), 'W2': array([[-1.20662146, -0.37103325,  0.38107045]]), 'b2': array([[-0.04423341]])},\n",
       "       {'W1': array([[ 0.00545448,  0.00989066,  0.00918933],\n",
       "              [-0.00352243,  0.01259147, -0.00568059],\n",
       "              [ 0.01191921,  0.00569979,  0.00836723]]), 'b1': array([[ 0.18162218],\n",
       "              [-0.9713704 ],\n",
       "              [ 0.83303549]]), 'W2': array([[-3.87967546, -2.44765472,  0.15009135]]), 'b2': array([[-0.1408932]])}],\n",
       "      dtype=object)"
      ]
     },
     "metadata": {},
     "output_type": "display_data"
    }
   ],
   "source": [
    "from dino_nn import initialize_parameters\n",
    "\n",
    "\n",
    "def genesis(pop_size=POP_SIZE):\n",
    "    trex_clan = [initialize_parameters(\n",
    "        N_X, N_H, N_Y) for i in range(pop_size)]\n",
    "    trex_clan = np.array(trex_clan)\n",
    "    return trex_clan\n",
    "\n",
    "display(genesis())"
   ]
  },
  {
   "cell_type": "markdown",
   "metadata": {},
   "source": [
    "## 2. Fitness function\n"
   ]
  },
  {
   "cell_type": "markdown",
   "metadata": {},
   "source": [
    "Lấy điểm số của từng màn chơi (sử dụng lại function playgame ở dino_nn mỗi lần chơi sẽ trả về điểm số khi kết thúc ván game).\n"
   ]
  },
  {
   "cell_type": "code",
   "execution_count": null,
   "metadata": {},
   "outputs": [],
   "source": [
    "from dino_nn import play_game\n",
    "\n",
    "score = play_game\n"
   ]
  },
  {
   "cell_type": "markdown",
   "metadata": {},
   "source": [
    "## 3. Selection"
   ]
  },
  {
   "cell_type": "markdown",
   "metadata": {},
   "source": [
    "##### Ta sẽ tiến hành select_survivals từ điểm fitness của các cá thể, sau đó random_match các cha mẹ lại, tiếp đó ta sẽ liên tục breed_a_child cho tới khi đạt tới \bsize yêu cầu của generation (theo hàm gen_to_max_size)"
   ]
  },
  {
   "cell_type": "code",
   "execution_count": null,
   "metadata": {},
   "outputs": [],
   "source": [
    "def select_survivals(tribal, score):\n",
    "    fitness_scores = np.array(score)\n",
    "    survival_inds = (-fitness_scores).argsort()[:4]\n",
    "    return tribal[survival_inds], survival_inds\n",
    "\n",
    "def random_match(random_set = RANDOM_SET):\n",
    "    number = -1\n",
    "    curr_number = sum(random_set)\n",
    "    lucky_number = np.random.randint(0, curr_number)\n",
    "    while lucky_number < curr_number:\n",
    "        number += 1\n",
    "        curr_number -= random_set[number]\n",
    "    return number\n",
    "\n",
    "def breed_a_child(survivals):\n",
    "    \"\"\"\n",
    "    chon 2 cha me tu survivals va crossver\n",
    "    sau do cho child mutation\n",
    "    \"\"\"\n",
    "    adam_ind = random_match(RANDOM_SET)\n",
    "    eva_ind = random_match(RANDOM_SET)\n",
    "    # boi vi so ok kha it --> co the cu de tu breed cung dc di\n",
    "    expected_cain = crossver(survivals[adam_ind], survivals[eva_ind])\n",
    "    real_cain = do_mutation(expected_cain)\n",
    "    return real_cain\n",
    "\n",
    "def gen_to_max_size(survivals, pop_size = POP_SIZE):\n",
    "    curr_len = N_SIZE\n",
    "    dna_survivals = map(cv_to_sequence, survivals)\n",
    "    dna_tribal = dna_survivals[:]\n",
    "    while curr_len < pop_size:\n",
    "        new_born = breed_a_child(dna_survivals)\n",
    "        dna_tribal.append(new_born)\n",
    "        curr_len += 1\n",
    "    new_gen = map(cv_to_body, dna_tribal)\n",
    "    new_gen = np.array(new_gen)\n",
    "    return new_gen"
   ]
  },
  {
   "cell_type": "markdown",
   "metadata": {},
   "source": [
    "## 4. Crossover"
   ]
  },
  {
   "cell_type": "markdown",
   "metadata": {},
   "source": [
    "##### Ta tạo ra hàm crossver để tạo ra 1 cá thể con từ 1 cặp cha mẹ cho trước."
   ]
  },
  {
   "cell_type": "code",
   "execution_count": null,
   "metadata": {},
   "outputs": [],
   "source": [
    "def crossver(adam, eva):\n",
    "    weight_adam = adam[:12]\n",
    "    weight_eva = eva[:12]\n",
    "    bias_adam = adam[12:]\n",
    "    bias_eva = eva[12:]\n",
    "\n",
    "    cut_1 = np.random.randint(0, 12)\n",
    "    cut_2 = np.random.randint(12, 16) - 12\n",
    "\n",
    "    childs = []\n",
    "    childs.append(weight_adam[:cut_1] + weight_eva[cut_1:] + bias_adam[:cut_2] + bias_eva[cut_2:])\n",
    "    childs.append(weight_adam[:cut_1] + weight_eva[cut_1:] + bias_eva[:cut_2] + bias_adam[cut_2:])\n",
    "    childs.append(weight_eva[:cut_1] + weight_adam[cut_1:] + bias_adam[:cut_2] + bias_eva[cut_2:])\n",
    "    childs.append(weight_eva[:cut_1] + weight_adam[cut_1:] + bias_eva[:cut_2] + bias_adam[cut_2:])\n",
    "    selected_child = np.random.randint(0, 4)\n",
    "    return childs[selected_child]"
   ]
  },
  {
   "cell_type": "markdown",
   "metadata": {},
   "source": [
    "# 5. Mutation"
   ]
  },
  {
   "cell_type": "markdown",
   "metadata": {},
   "source": [
    "##### Ta cũng quy định hàm do_mutation để thực hiện tạo đột biến cho các cá thể. Cách tạo đột biến mình có mô tả phía trên."
   ]
  },
  {
   "cell_type": "code",
   "execution_count": null,
   "metadata": {},
   "outputs": [],
   "source": [
    "def do_mutation(child, mutation_prob = MUTATION_PROB):\n",
    "    mutation_rate = np.random.random(16)\n",
    "    new_child = child[:]\n",
    "    for ind in range(16):\n",
    "        if mutation_rate[ind] < mutation_prob:\n",
    "            if ind < 9:\n",
    "                new_child[ind] += np.random.randn() * MUTATION_RANGE[0]\n",
    "            elif ind < 12:\n",
    "                new_child[ind] += np.random.randn() * MUTATION_RANGE[1]\n",
    "            elif ind < 15:\n",
    "                new_child[ind] += np.random.randn() * MUTATION_RANGE[2]\n",
    "            else:\n",
    "                new_child[ind] += np.random.randn() * MUTATION_RANGE[3]\n",
    "    return new_child"
   ]
  },
  {
   "cell_type": "markdown",
   "metadata": {},
   "source": [
    "![Alt text](image_mutation_cylcle.png)"
   ]
  },
  {
   "cell_type": "markdown",
   "metadata": {},
   "source": [
    "## Converter "
   ]
  },
  {
   "cell_type": "markdown",
   "metadata": {},
   "source": [
    "##### Cần 1 hàm chuyển các parameters_set (tức là các hệ số trong NN) sang sequence (chromosome/DNA) và 1 hàm theo chiều ngược lại.\n",
    "\n",
    "![Alt text](image-5.png)"
   ]
  },
  {
   "cell_type": "code",
   "execution_count": null,
   "metadata": {},
   "outputs": [],
   "source": [
    "def cv_to_sequence(body):\n",
    "    \"\"\"\n",
    "    cv body aka parameters_set to ADN aka sequence\n",
    "    \"\"\"\n",
    "    sequence = []\n",
    "    for key in BODY_KEYS:\n",
    "        sequence.append(body[key])\n",
    "    sequence_str = str(sequence)\n",
    "    sequence_str = sequence_str.replace(\"[\", \"\").replace(\"array\", \"\")\n",
    "    sequence_str = sequence_str.replace(\"]\", \"\").replace(\"\\n\", \"\")\n",
    "    sequence_str = sequence_str.replace(\"(\", \"\").replace(\")\", \"\")\n",
    "    sequence_str = sequence_str.replace(\" \", \"\")\n",
    "    sequence_adj = map(float, sequence_str.split(\",\"))\n",
    "    return sequence_adj\n",
    "\n",
    "def cv_to_body(adn):\n",
    "    \"\"\"\n",
    "    cv ADN aka sequence to body aka parameters_set\n",
    "    \"\"\"\n",
    "    params = {}\n",
    "    params[\"W1\"] = np.reshape(adn[:9], (3, 3))\n",
    "    params[\"W2\"] = np.reshape(adn[9:12], (1, 3))\n",
    "    params[\"b1\"] = np.reshape(adn[12:15], (3, 1))\n",
    "    params[\"b2\"] = np.reshape(adn[15], (1, 1))\n",
    "    return params\n"
   ]
  },
  {
   "cell_type": "markdown",
   "metadata": {},
   "source": [
    "# Evolve"
   ]
  },
  {
   "cell_type": "markdown",
   "metadata": {},
   "source": [
    "##### Cuối cùng là hàm evolve để tập hợp các hàm \bphía trên, tiến hành train liên tục và chuyển sang các generation khác. Các thông tin khi chạy đều được lưu vào log."
   ]
  },
  {
   "cell_type": "code",
   "execution_count": null,
   "metadata": {},
   "outputs": [],
   "source": [
    "def evolve():\n",
    "    adam_eva = genesis(POP_SIZE)\n",
    "    curr_gen = adam_eva.copy()\n",
    "    count_gen = 0\n",
    "    while True:\n",
    "        log1.info(\"-------------------------------------------------------\")\n",
    "        log2.info(\"-------------------------------------------------------\")\n",
    "        print(\"-------------------------------------------------------\")\n",
    "        log1.info(\"Generation: {}\".format(count_gen))\n",
    "        log1.info(\"a new day has come\")\n",
    "        score = []\n",
    "        for trex in curr_gen:\n",
    "            count_cactus = capturing_objects.play_game(trex)\n",
    "            score.append(count_cactus)\n",
    "        log1.info(score)\n",
    "        survivals, survival_inds = select_survivals(curr_gen, score)\n",
    "        log1.info(survival_inds)\n",
    "        log1.info(\"genarating next gen\")\n",
    "        curr_gen = gen_to_max_size(survivals, POP_SIZE)\n",
    "        count_gen += 1\n",
    "        log2.info(survivals)\n",
    "        if max(score) > 15:\n",
    "            log1.info(survivals)\n",
    "            continue\n",
    "        elif count_gen % 10 == 0:\n",
    "            log1.info(survivals)\n",
    "        log1.info(\"\")"
   ]
  }
 ],
 "metadata": {
  "kernelspec": {
   "display_name": ".venv",
   "language": "python",
   "name": "python3"
  },
  "language_info": {
   "codemirror_mode": {
    "name": "ipython",
    "version": 3
   },
   "file_extension": ".py",
   "mimetype": "text/x-python",
   "name": "python",
   "nbconvert_exporter": "python",
   "pygments_lexer": "ipython3",
   "version": "3.9.6"
  },
  "orig_nbformat": 4
 },
 "nbformat": 4,
 "nbformat_minor": 2
}
