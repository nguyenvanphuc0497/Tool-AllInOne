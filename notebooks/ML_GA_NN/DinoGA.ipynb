{
 "cells": [
  {
   "cell_type": "markdown",
   "metadata": {},
   "source": [
    "# Quy định khi triển khai GA\n",
    "\n",
    "- Lựa chọn encoding, mutation(đột biến): mình chọn cách chuyển các layer (weights, bias của các matrix giữa các lớp) thành 1 sequence và coi sequence này là chromosome (bạn có thể hiểu là DNA). Về phần mutation, với mỗi số trong sequence, mình sẽ có 1 xác suất nhỏ số đấy sẽ được cộng với 1 số random nào đó (khá nhỏ so với số này).\n",
    "\n",
    "- Lựa chọn hàm fitness: thay vì lấy điểm số màn chơi làm hàm fitness, mình đánh giá bot nào tốt hơn bằng cách xem bot nào xử lý các cây xương rồng tốt hơn, nghĩa là lấy số cây xương rồng mà bot vượt qua được làm hàm fitness.\n",
    "\n",
    "- Lựa chọn population, survival: mình chọn population là 12. Thực ra mình thấy 12 hơi nhỏ và có lẽ 50 là con số tốt hơn, nhưng bởi vì training trên môi trường bình thường nên khá chậm. Ví dụ như 1 cá thể tốt có thể đạt tới 500 điểm, như vậy sẽ mất vài phút để chạy xong, và như vậy 1 generation sẽ mất vài tiếng để pass tới generation mới. Về \bsurvival, mình chọn 4 cá thể có hàm fitness cao nhất để nhân giống cho thế hệ sau. Sau khi thực hiện xong project, mình nghĩ nên chọn nhiều cá thể hơn làm cha mẹ, như vậy sẽ tăng thời gian training nhưng có thể đạt được hội tụ tốt hơn. Tuy nhiên kết quả project dù sao cũng tốt với thiệt lập như này.\n",
    "\n",
    "- Lựa chọn cách crossover: mình chọn cách cắt đôi sequence để thực hiện crossover. Do ghép từ 2 cặp cắt đôi (là có cắt weights và bias) nên sẽ có 4 kết quả. Mình chọn random trong 4 kết quả này. Bạn có thể hình dung thông qua minh hoạ dưới đây. Do chỉ có 4 cha mẹ cho 1 generation mới, mình lựa chọn 1 cá thể có thể nhân giống với chính nó."
   ]
  },
  {
   "cell_type": "markdown",
   "metadata": {},
   "source": [
    "# Code phần GA"
   ]
  },
  {
   "cell_type": "code",
   "execution_count": 2,
   "metadata": {},
   "outputs": [],
   "source": [
    "import numpy as np"
   ]
  },
  {
   "cell_type": "code",
   "execution_count": 3,
   "metadata": {},
   "outputs": [],
   "source": [
    "N_X = 3\n",
    "N_H = 3\n",
    "N_Y = 1\n",
    "\n",
    "POP_SIZE = 12\n",
    "MUTATION_PROB = 0.1\n",
    "N_SIZE = 4\n",
    "RANDOM_SET = [6, 5, 4, 3]\n",
    "BODY_KEYS = [\"W1\", \"W2\", \"b1\", \"b2\"]\n",
    "MUTATION_RANGE = [0.005, 0.5, 0.2, 0.05]\n"
   ]
  },
  {
   "cell_type": "markdown",
   "metadata": {},
   "source": [
    "## Converter "
   ]
  },
  {
   "cell_type": "markdown",
   "metadata": {},
   "source": [
    "##### Cần 1 hàm chuyển các parameters_set (tức là các hệ số trong NN) sang sequence (chromosome/DNA) và 1 hàm theo chiều ngược lại.\n",
    "\n",
    "![Alt text](image-5.png)"
   ]
  },
  {
   "cell_type": "code",
   "execution_count": null,
   "metadata": {},
   "outputs": [],
   "source": [
    "def cv_to_sequence(body):\n",
    "    \"\"\"\n",
    "    cv body aka parameters_set to ADN aka sequence\n",
    "    \"\"\"\n",
    "    sequence = []\n",
    "    for key in BODY_KEYS:\n",
    "        sequence.append(body[key])\n",
    "    sequence_str = str(sequence)\n",
    "    sequence_str = sequence_str.replace(\"[\", \"\").replace(\"array\", \"\")\n",
    "    sequence_str = sequence_str.replace(\"]\", \"\").replace(\"\\n\", \"\")\n",
    "    sequence_str = sequence_str.replace(\"(\", \"\").replace(\")\", \"\")\n",
    "    sequence_str = sequence_str.replace(\" \", \"\")\n",
    "    sequence_adj = map(float, sequence_str.split(\",\"))\n",
    "    return sequence_adj\n"
   ]
  },
  {
   "cell_type": "markdown",
   "metadata": {},
   "source": [
    "`body= {'W1': array([[-2.25577063e-03,  4.06706987e-03,  1.06554360e-02],\n",
    "       [ 1.33614910e-02, -8.25078653e-03, -9.25563844e-03],\n",
    "       [-1.71756206e-05, -2.67587055e-03, -8.84531134e-03]]), 'b1': array([[0.02373217],\n",
    "       [0.51851609],\n",
    "       [0.34590606]]), 'W2': array([[0.88314705, 0.20716934, 0.49025206]]), 'b2': array([[-0.03956218]])}`\n",
    "       \n",
    "`sequence= [array([[-2.25577063e-03,  4.06706987e-03,  1.06554360e-02],\n",
    "       [ 1.33614910e-02, -8.25078653e-03, -9.25563844e-03],\n",
    "       [-1.71756206e-05, -2.67587055e-03, -8.84531134e-03]]), array([[0.88314705, 0.20716934, 0.49025206]]), array([[0.02373217],\n",
    "       [0.51851609],\n",
    "       [0.34590606]]), array([[-0.03956218]])]`"
   ]
  },
  {
   "cell_type": "code",
   "execution_count": null,
   "metadata": {},
   "outputs": [],
   "source": [
    "def cv_to_body(adn):\n",
    "    \"\"\"\n",
    "    cv ADN aka sequence to body aka parameters_set\n",
    "    \"\"\"\n",
    "    params = {}\n",
    "    params[\"W1\"] = np.reshape(adn[:9], (3, 3))\n",
    "    params[\"W2\"] = np.reshape(adn[9:12], (1, 3))\n",
    "    params[\"b1\"] = np.reshape(adn[12:15], (3, 1))\n",
    "    params[\"b2\"] = np.reshape(adn[15], (1, 1))\n",
    "    return params"
   ]
  },
  {
   "cell_type": "markdown",
   "metadata": {},
   "source": [
    "`adn= [-0.00110909, -0.01222481639373562, 0.00053467, 0.00384994, 0.01073706, -0.01976522, 0.01165224282105234, -0.00588098, -0.02677469, 0.06930708, -0.6338238, 0.8109224, 0.39007805, 0.34575972, 0.92335005, 0.35678164]`\n",
    "\n",
    "`params= {'W1': array([[-0.00110909, -0.01222482,  0.00053467],\n",
    "       [ 0.00384994,  0.01073706, -0.01976522],\n",
    "       [ 0.01165224, -0.00588098, -0.02677469]]), 'W2': array([[ 0.06930708, -0.6338238 ,  0.8109224 ]]), 'b1': array([[0.39007805],\n",
    "       [0.34575972],\n",
    "       [0.92335005]]), 'b2': array([[0.35678164]])}`\n"
   ]
  },
  {
   "cell_type": "markdown",
   "metadata": {},
   "source": [
    "## 1. Initial population\n"
   ]
  },
  {
   "cell_type": "markdown",
   "metadata": {},
   "source": [
    "Ta cần 1 hàm tạo ra generation đầu tiên, đây là các cá thể được tạo random. Thực tế khi chạy rồi lúc có thể có những lần fail hoàn toàn do generation đầu quá tệ."
   ]
  },
  {
   "cell_type": "code",
   "execution_count": 5,
   "metadata": {},
   "outputs": [
    {
     "data": {
      "text/plain": [
       "array([{'W1': array([[-0.00302326, -0.00556239,  0.00522661],\n",
       "              [-0.00376682,  0.01254634, -0.01656048],\n",
       "              [ 0.00080338,  0.00949067, -0.00169025]]), 'b1': array([[0.67816698],\n",
       "              [0.52777615],\n",
       "              [0.5239842 ]]), 'W2': array([[ 1.39639392, -0.65520626,  0.02656992]]), 'b2': array([[0.00858657]])},\n",
       "       {'W1': array([[-0.00736442, -0.00571794,  0.00260728],\n",
       "              [ 0.00894329, -0.00228684,  0.00942701],\n",
       "              [-0.01749506,  0.00028303,  0.00400906]]), 'b1': array([[-0.39491711],\n",
       "              [ 0.23608448],\n",
       "              [ 0.68964694]]), 'W2': array([[ 1.62645282, -0.0363814 , -0.18950125]]), 'b2': array([[-0.04581984]])},\n",
       "       {'W1': array([[-0.01570869, -0.01025981,  0.00520108],\n",
       "              [ 0.0108056 ,  0.01624868,  0.00561545],\n",
       "              [-0.00758254, -0.00134151, -0.00725735]]), 'b1': array([[ 1.0143746 ],\n",
       "              [ 0.83292969],\n",
       "              [-1.17684671]]), 'W2': array([[ 0.10220025, -1.23213048,  1.18660284]]), 'b2': array([[-0.12271518]])},\n",
       "       {'W1': array([[ 0.01205168,  0.01516749,  0.01002476],\n",
       "              [ 0.00558946,  0.0070011 , -0.00043786],\n",
       "              [ 0.01302373,  0.00842904, -0.016511  ]]), 'b1': array([[-0.07671774],\n",
       "              [ 0.77124289],\n",
       "              [-1.08019574]]), 'W2': array([[ 0.37303584, -0.76894347, -0.98058558]]), 'b2': array([[0.09079694]])},\n",
       "       {'W1': array([[-0.00107812,  0.0031936 ,  0.01345739],\n",
       "              [ 0.01046067, -0.00914948, -0.01258568],\n",
       "              [ 0.00577723, -0.00373708,  0.01357563]]), 'b1': array([[ 0.16551204],\n",
       "              [-0.39090154],\n",
       "              [ 0.82615059]]), 'W2': array([[ 2.20981101, -2.60856319,  1.76629035]]), 'b2': array([[0.0721459]])},\n",
       "       {'W1': array([[ 0.02315713,  0.00394836,  0.00878962],\n",
       "              [-0.00560643, -0.00845753,  0.00161462],\n",
       "              [-0.00264569, -0.00164854, -0.00922119]]), 'b1': array([[ 0.3019012 ],\n",
       "              [-1.04814158],\n",
       "              [-0.07580685]]), 'W2': array([[ 1.98923452,  0.24200207, -2.0944725 ]]), 'b2': array([[0.13917888]])},\n",
       "       {'W1': array([[-0.0050297 , -0.00903897,  0.00125255],\n",
       "              [ 0.01178567, -0.0112238 , -0.01446863],\n",
       "              [ 0.0162556 , -0.00884847,  0.0123526 ]]), 'b1': array([[-0.51347774],\n",
       "              [ 0.42457542],\n",
       "              [ 0.53139325]]), 'W2': array([[ 1.33881116, -0.7621256 , -0.14068539]]), 'b2': array([[-0.07599127]])},\n",
       "       {'W1': array([[-0.00461738, -0.00243436, -0.01840805],\n",
       "              [ 0.0049213 ,  0.00094687,  0.00192654],\n",
       "              [ 0.00192697, -0.01824082,  0.00088174]]), 'b1': array([[ 0.10660866],\n",
       "              [-0.48302798],\n",
       "              [ 0.24968032]]), 'W2': array([[-1.2053673 , -1.31166755, -1.04900811]]), 'b2': array([[0.06570685]])},\n",
       "       {'W1': array([[ 0.0015092 ,  0.02005164,  0.00822969],\n",
       "              [ 0.00174654,  0.01212179, -0.0074801 ],\n",
       "              [ 0.00182462, -0.0015846 ,  0.00539189]]), 'b1': array([[0.19586248],\n",
       "              [0.08636752],\n",
       "              [0.14462448]]), 'W2': array([[-1.33122889,  0.66227444,  1.980931  ]]), 'b2': array([[-0.09502414]])},\n",
       "       {'W1': array([[ 0.00677378, -0.00575999,  0.00336838],\n",
       "              [-0.00201942,  0.00388887,  0.00318558],\n",
       "              [-0.00054983, -0.00171323,  0.01735735]]), 'b1': array([[ 0.466421  ],\n",
       "              [-0.13804328],\n",
       "              [ 0.13723103]]), 'W2': array([[-2.6718361 ,  0.96900785,  1.94755446]]), 'b2': array([[-0.0864338]])},\n",
       "       {'W1': array([[ 0.01022863,  0.0233478 , -0.01511842],\n",
       "              [ 0.00449285, -0.00232612, -0.004531  ],\n",
       "              [-0.01512786, -0.00318579,  0.01762289]]), 'b1': array([[-0.78248937],\n",
       "              [-0.21635898],\n",
       "              [-0.58450234]]), 'W2': array([[-1.20662146, -0.37103325,  0.38107045]]), 'b2': array([[-0.04423341]])},\n",
       "       {'W1': array([[ 0.00545448,  0.00989066,  0.00918933],\n",
       "              [-0.00352243,  0.01259147, -0.00568059],\n",
       "              [ 0.01191921,  0.00569979,  0.00836723]]), 'b1': array([[ 0.18162218],\n",
       "              [-0.9713704 ],\n",
       "              [ 0.83303549]]), 'W2': array([[-3.87967546, -2.44765472,  0.15009135]]), 'b2': array([[-0.1408932]])}],\n",
       "      dtype=object)"
      ]
     },
     "metadata": {},
     "output_type": "display_data"
    }
   ],
   "source": [
    "from dino_nn import initialize_parameters\n",
    "\n",
    "\n",
    "def genesis(pop_size=POP_SIZE):\n",
    "    trex_clan = [initialize_parameters(\n",
    "        N_X, N_H, N_Y) for i in range(pop_size)]\n",
    "    trex_clan = np.array(trex_clan)\n",
    "    return trex_clan\n",
    "\n",
    "display(genesis())"
   ]
  },
  {
   "cell_type": "markdown",
   "metadata": {},
   "source": [
    "## 2. Fitness function\n"
   ]
  },
  {
   "cell_type": "markdown",
   "metadata": {},
   "source": [
    "Lấy điểm số của từng màn chơi (sử dụng lại function playgame ở dino_nn mỗi lần chơi sẽ trả về điểm số khi kết thúc ván game).\n"
   ]
  },
  {
   "cell_type": "code",
   "execution_count": null,
   "metadata": {},
   "outputs": [],
   "source": [
    "from dino_nn import play_game\n",
    "\n",
    "score = play_game\n"
   ]
  },
  {
   "cell_type": "markdown",
   "metadata": {},
   "source": [
    "## 3. Selection"
   ]
  },
  {
   "cell_type": "markdown",
   "metadata": {},
   "source": [
    "##### Ta sẽ tiến hành select_survivals từ điểm fitness của các cá thể, sau đó random_match các cha mẹ lại."
   ]
  },
  {
   "cell_type": "code",
   "execution_count": null,
   "metadata": {},
   "outputs": [],
   "source": [
    "def select_survivals(tribal, score):\n",
    "    fitness_scores = np.array(score)\n",
    "    survival_inds = (-fitness_scores).argsort()[:4] # chuyển sang giá trị âm và sort\n",
    "    return tribal[survival_inds], survival_inds\n",
    "\n",
    "\n",
    "def random_match(random_set=RANDOM_SET):\n",
    "    number = -1\n",
    "    curr_number = sum(random_set)\n",
    "    lucky_number = np.random.randint(0, curr_number)\n",
    "    while lucky_number < curr_number:\n",
    "        number += 1\n",
    "        curr_number -= random_set[number]\n",
    "    return number\n"
   ]
  },
  {
   "cell_type": "markdown",
   "metadata": {},
   "source": [
    "tribal= [{'W1': array([[ 0.00186908,  0.00170099, -0.00885588],\n",
    "        [-0.02077583, -0.00893555,  0.0129884 ],\n",
    "        [ 0.01191064,  0.02585975,  0.00346434]]), 'b1': array([[0.51425576],\n",
    "        [0.59653082],\n",
    "        [0.3704624 ]]), 'W2': array([[0.36238972, 1.63961405, 1.19425348]]), 'b2': array([[0.04960243]])}\n",
    " {'W1': array([[ 0.00451642, -0.01137283,  0.00313144],\n",
    "        [-0.00628801, -0.01474175,  0.01487595],\n",
    "        [-0.00146567,  0.00586895, -0.00914562]]), 'b1': array([[0.05086135],\n",
    "        [0.40475606],\n",
    "        [0.20840084]]), 'W2': array([[ 0.07150403, -3.7484707 , -0.15297691]]), 'b2': array([[-0.11427518]])}\n",
    " {'W1': array([[-0.00011143,  0.00400506, -0.00808964],\n",
    "        [ 0.00577842, -0.00897957, -0.00338029],\n",
    "        [-0.00950392, -0.0013769 , -0.0021641 ]]), 'b1': array([[0.47845439],\n",
    "        [0.56633776],\n",
    "        [0.28383487]]), 'W2': array([[-0.20242944, -0.33552417,  1.58525568]]), 'b2': array([[0.13771654]])}\n",
    " {'W1': array([[-0.00140887,  0.0052579 ,  0.01415507],\n",
    "        [-0.00325708, -0.01272355,  0.00185065],\n",
    "        [-0.00306932,  0.00741625, -0.00568358]]), 'b1': array([[ 0.06478614],\n",
    "        [ 0.18136403],\n",
    "        [-0.24832133]]), 'W2': array([[ 0.1080681 ,  0.71073654, -1.42879073]]), 'b2': array([[0.08301525]])}\n",
    " {'W1': array([[-0.0096537 ,  0.00512624,  0.01394242],\n",
    "        [-0.00592077, -0.00242889, -0.01289153],\n",
    "        [ 0.00240955, -0.00792998, -0.00760194]]), 'b1': array([[ 0.1745851 ],\n",
    "        [-0.21110215],\n",
    "        [ 0.73588262]]), 'W2': array([[-0.60193542,  1.0245507 ,  1.03024122]]), 'b2': array([[-0.11328447]])}\n",
    " {'W1': array([[ 0.00024512,  0.0020366 , -0.00153019],\n",
    "        [ 0.00501012,  0.00170439,  0.00421495],\n",
    "        [-0.00428756, -0.0086934 ,  0.01128537]]), 'b1': array([[ 0.65959463],\n",
    "        [ 0.15417807],\n",
    "        [-0.92662122]]), 'W2': array([[ 0.21744948, -0.38402893,  1.72976247]]), 'b2': array([[0.03531734]])}\n",
    " {'W1': array([[-0.00844737, -0.0055683 ,  0.00054114],\n",
    "        [ 0.00118754,  0.01109476,  0.00394489],\n",
    "        [ 0.00052328,  0.00534172,  0.00865382]]), 'b1': array([[ 0.64607051],\n",
    "        [-0.27456014],\n",
    "        [ 0.29132737]]), 'W2': array([[-0.641904  , -3.18930404, -0.54487562]]), 'b2': array([[-0.09343674]])}\n",
    " {'W1': array([[-0.00675471,  0.00441748,  0.02169352],\n",
    "        [-0.00256629,  0.00180769,  0.01340068],\n",
    "        [-0.00795965, -0.01323201, -0.0006808 ]]), 'b1': array([[ 0.19210553],\n",
    "        [ 0.92382511],\n",
    "        [-0.35544641]]), 'W2': array([[0.0864048 , 0.86366838, 0.06522612]]), 'b2': array([[0.20571457]])}\n",
    " {'W1': array([[-0.00168429, -0.00846168,  0.00332377],\n",
    "        [ 0.00164353, -0.00209885, -0.01515935],\n",
    "        [-0.00238887,  0.00032799,  0.00191436]]), 'b1': array([[-0.05438533],\n",
    "        [-0.2999632 ],\n",
    "        [-0.11946396]]), 'W2': array([[-2.13250307, -0.01159749, -0.75998168]]), 'b2': array([[-0.31209534]])}\n",
    " {'W1': array([[ 0.00725192,  0.01736422, -0.00573289],\n",
    "        [ 0.00046444, -0.01527393, -0.00717709],\n",
    "        [ 0.01550293,  0.00736765, -0.00717323]]), 'b1': array([[ 0.66015564],\n",
    "        [ 0.11603796],\n",
    "        [-0.26644995]]), 'W2': array([[-0.529538  ,  1.25577917,  1.44697987]]), 'b2': array([[-0.05917305]])}\n",
    " {'W1': array([[-0.01001122, -0.00652026,  0.00380874],\n",
    "        [-0.00573221, -0.02189533,  0.00211367],\n",
    "        [ 0.01696092,  0.00966658, -0.00089865]]), 'b1': array([[-0.85489078],\n",
    "        [ 1.07203556],\n",
    "        [-0.14380816]]), 'W2': array([[ 1.31447512,  0.2233501 , -0.90156512]]), 'b2': array([[-0.05230664]])}\n",
    " {'W1': array([[-0.01180791,  0.01189518,  0.00996632],\n",
    "        [ 0.0120103 , -0.00965826,  0.00416507],\n",
    "        [ 0.00736227, -0.00714388,  0.00368161]]), 'b1': array([[ 0.45626667],\n",
    "        [-0.17731061],\n",
    "        [-0.25890109]]), 'W2': array([[-0.54372683,  1.1705041 ,  1.26247338]]), 'b2': array([[0.08388264]])}]\n",
    "score= [49, 43, 1772, 43, 43, 153, 43, 43, 51, 43, 43, 43]\n",
    "survivals= [{'W1': array([[-0.00011143,  0.00400506, -0.00808964],\n",
    "        [ 0.00577842, -0.00897957, -0.00338029],\n",
    "        [-0.00950392, -0.0013769 , -0.0021641 ]]), 'b1': array([[0.47845439],\n",
    "        [0.56633776],\n",
    "        [0.28383487]]), 'W2': array([[-0.20242944, -0.33552417,  1.58525568]]), 'b2': array([[0.13771654]])}\n",
    " {'W1': array([[ 0.00024512,  0.0020366 , -0.00153019],\n",
    "        [ 0.00501012,  0.00170439,  0.00421495],\n",
    "        [-0.00428756, -0.0086934 ,  0.01128537]]), 'b1': array([[ 0.65959463],\n",
    "        [ 0.15417807],\n",
    "        [-0.92662122]]), 'W2': array([[ 0.21744948, -0.38402893,  1.72976247]]), 'b2': array([[0.03531734]])}\n",
    " {'W1': array([[-0.00168429, -0.00846168,  0.00332377],\n",
    "        [ 0.00164353, -0.00209885, -0.01515935],\n",
    "        [-0.00238887,  0.00032799,  0.00191436]]), 'b1': array([[-0.05438533],\n",
    "        [-0.2999632 ],\n",
    "        [-0.11946396]]), 'W2': array([[-2.13250307, -0.01159749, -0.75998168]]), 'b2': array([[-0.31209534]])}\n",
    " {'W1': array([[ 0.00186908,  0.00170099, -0.00885588],\n",
    "        [-0.02077583, -0.00893555,  0.0129884 ],\n",
    "        [ 0.01191064,  0.02585975,  0.00346434]]), 'b1': array([[0.51425576],\n",
    "        [0.59653082],\n",
    "        [0.3704624 ]]), 'W2': array([[0.36238972, 1.63961405, 1.19425348]]), 'b2': array([[0.04960243]])}]\n",
    "survival_inds= [2 5 8 0]"
   ]
  },
  {
   "cell_type": "markdown",
   "metadata": {},
   "source": [
    "## 4. Crossover"
   ]
  },
  {
   "cell_type": "markdown",
   "metadata": {},
   "source": [
    "##### Ta tạo ra hàm crossver để tạo ra 1 cá thể con từ 1 cặp cha mẹ cho trước."
   ]
  },
  {
   "cell_type": "code",
   "execution_count": null,
   "metadata": {},
   "outputs": [],
   "source": [
    "def crossver(adam, eva):\n",
    "    weight_adam = adam[:12]\n",
    "    weight_eva = eva[:12]\n",
    "    bias_adam = adam[12:]\n",
    "    bias_eva = eva[12:]\n",
    "\n",
    "    cut_1 = np.random.randint(0, 12)\n",
    "    cut_2 = np.random.randint(12, 16) - 12\n",
    "\n",
    "    childs = []\n",
    "    childs.append(weight_adam[:cut_1] + weight_eva[cut_1:] + bias_adam[:cut_2] + bias_eva[cut_2:])\n",
    "    childs.append(weight_adam[:cut_1] + weight_eva[cut_1:] + bias_eva[:cut_2] + bias_adam[cut_2:])\n",
    "    childs.append(weight_eva[:cut_1] + weight_adam[cut_1:] + bias_adam[:cut_2] + bias_eva[cut_2:])\n",
    "    childs.append(weight_eva[:cut_1] + weight_adam[cut_1:] + bias_eva[:cut_2] + bias_adam[cut_2:])\n",
    "    selected_child = np.random.randint(0, 4)\n",
    "    return childs[selected_child]"
   ]
  },
  {
   "cell_type": "markdown",
   "metadata": {},
   "source": [
    "# 5. Mutation"
   ]
  },
  {
   "cell_type": "markdown",
   "metadata": {},
   "source": [
    "##### Ta cũng quy định hàm do_mutation để thực hiện tạo đột biến cho các cá thể. Cách tạo đột biến mình có mô tả phía trên."
   ]
  },
  {
   "cell_type": "code",
   "execution_count": null,
   "metadata": {},
   "outputs": [],
   "source": [
    "def do_mutation(child, mutation_prob = MUTATION_PROB):\n",
    "    mutation_rate = np.random.random(16)\n",
    "    new_child = child[:]\n",
    "    for ind in range(16):\n",
    "        if mutation_rate[ind] < mutation_prob:\n",
    "            if ind < 9:\n",
    "                new_child[ind] += np.random.randn() * MUTATION_RANGE[0]\n",
    "            elif ind < 12:\n",
    "                new_child[ind] += np.random.randn() * MUTATION_RANGE[1]\n",
    "            elif ind < 15:\n",
    "                new_child[ind] += np.random.randn() * MUTATION_RANGE[2]\n",
    "            else:\n",
    "                new_child[ind] += np.random.randn() * MUTATION_RANGE[3]\n",
    "    return new_child"
   ]
  },
  {
   "cell_type": "markdown",
   "metadata": {},
   "source": [
    "Tiếp đó ta sẽ liên tục breed_a_child cho tới khi đạt tới size yêu cầu của generation (theo hàm gen_to_max_size)"
   ]
  },
  {
   "cell_type": "code",
   "execution_count": null,
   "metadata": {},
   "outputs": [],
   "source": [
    "def breed_a_child(survivals):\n",
    "    \"\"\"\n",
    "    chon 2 cha me tu survivals va crossver\n",
    "    sau do cho child mutation\n",
    "    \"\"\"\n",
    "    adam_ind = random_match(RANDOM_SET)\n",
    "    eva_ind = random_match(RANDOM_SET)\n",
    "    expected_cain = crossver(survivals[adam_ind], survivals[eva_ind])\n",
    "    real_cain = do_mutation(expected_cain)\n",
    "    return real_cain\n",
    "\n",
    "\n",
    "def gen_to_max_size(survivals, pop_size=POP_SIZE):\n",
    "    curr_len = N_SIZE\n",
    "    dna_survivals = map(cv_to_sequence, survivals)\n",
    "    dna_tribal = dna_survivals[:]\n",
    "    while curr_len < pop_size:\n",
    "        new_born = breed_a_child(dna_survivals)\n",
    "        dna_tribal.append(new_born)\n",
    "        curr_len += 1\n",
    "    new_gen = map(cv_to_body, dna_tribal)\n",
    "    new_gen = np.array(new_gen)\n",
    "    return new_gen"
   ]
  },
  {
   "cell_type": "markdown",
   "metadata": {},
   "source": [
    "![Alt text](image_mutation_cylcle.png)"
   ]
  },
  {
   "cell_type": "markdown",
   "metadata": {},
   "source": [
    "# Evolve"
   ]
  },
  {
   "cell_type": "markdown",
   "metadata": {},
   "source": [
    "##### Cuối cùng là hàm evolve để tập hợp các hàm \bphía trên, tiến hành train liên tục và chuyển sang các generation khác. Các thông tin khi chạy đều được lưu vào log."
   ]
  },
  {
   "cell_type": "code",
   "execution_count": null,
   "metadata": {},
   "outputs": [],
   "source": [
    "def evolve():\n",
    "    adam_eva = genesis(POP_SIZE)\n",
    "    curr_gen = adam_eva.copy()\n",
    "    count_gen = 0\n",
    "    while True:\n",
    "        log1.info(\"-------------------------------------------------------\")\n",
    "        log2.info(\"-------------------------------------------------------\")\n",
    "        print(\"-------------------------------------------------------\")\n",
    "        log1.info(\"Generation: {}\".format(count_gen))\n",
    "        log1.info(\"a new day has come\")\n",
    "        score = []\n",
    "        for trex in curr_gen:\n",
    "            count_cactus = capturing_objects.play_game(trex)\n",
    "            score.append(count_cactus)\n",
    "        log1.info(score)\n",
    "        survivals, survival_inds = select_survivals(curr_gen, score)\n",
    "        log1.info(survival_inds)\n",
    "        log1.info(\"genarating next gen\")\n",
    "        curr_gen = gen_to_max_size(survivals, POP_SIZE)\n",
    "        count_gen += 1\n",
    "        log2.info(survivals)\n",
    "        if max(score) > 15:\n",
    "            log1.info(survivals)\n",
    "            continue\n",
    "        elif count_gen % 10 == 0:\n",
    "            log1.info(survivals)\n",
    "        log1.info(\"\")"
   ]
  }
 ],
 "metadata": {
  "kernelspec": {
   "display_name": ".venv",
   "language": "python",
   "name": "python3"
  },
  "language_info": {
   "codemirror_mode": {
    "name": "ipython",
    "version": 3
   },
   "file_extension": ".py",
   "mimetype": "text/x-python",
   "name": "python",
   "nbconvert_exporter": "python",
   "pygments_lexer": "ipython3",
   "version": "3.9.6"
  },
  "orig_nbformat": 4
 },
 "nbformat": 4,
 "nbformat_minor": 2
}
