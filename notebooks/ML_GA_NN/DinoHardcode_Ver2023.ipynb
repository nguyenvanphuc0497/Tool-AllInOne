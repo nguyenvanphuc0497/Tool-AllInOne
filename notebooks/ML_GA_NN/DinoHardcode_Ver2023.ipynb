{
 "cells": [
  {
   "cell_type": "markdown",
   "metadata": {},
   "source": [
    "# Pre-condition: Setup Environment, download and install Lib"
   ]
  },
  {
   "cell_type": "code",
   "execution_count": null,
   "metadata": {},
   "outputs": [],
   "source": [
    "!.venv/bin/activate \n",
    "%pip install selenium\n",
    "%pip install Pillow\n",
    "%pip install pandas\n",
    "%pip install webdriver-manager\n"
   ]
  },
  {
   "cell_type": "markdown",
   "metadata": {},
   "source": [
    "# Ý tưởng thực hiện\n",
    "\n",
    "<img src=\"image.png\" alt=\"drawing\" width=\"65%\"/>\n",
    "\n",
    "\n",
    "- Xây dựng con bot chơi game, cụ thể ở đây chọn game Dino (chrome://dino/).\n",
    "- Lí do:\n",
    "  - Game có cách thức chơi rất đơn giản -> dễ tạo bot hơn.\n",
    "  - Tạo được bot game đơn giản trước rồi mở rộng ý tưởng cho các game phức tạp hơn cũng dễ."
   ]
  },
  {
   "cell_type": "markdown",
   "metadata": {},
   "source": [
    "# Ý tưởng Auto-play\n",
    "\n",
    "- Tốc độ của máy móc nhanh con người ->\n",
    "  - Check vùng trước mặt của dino có chướng ngại vật, nếu có thì action để né.\n",
    "- Sự mạnh mẽ và bền bĩ của máy móc hơn con người ->\n",
    "  - Loop điều kiện trên liên tục để chẹck trong khoảng thời gian 1s, 0.5s, 0,1s... một cách nhanh nhất tuỳ vào CPU, GPU của máy.\n",
    "- Máy móc chưa thông minh hơn con người ?"
   ]
  },
  {
   "cell_type": "markdown",
   "metadata": {},
   "source": [
    "# Tìm hiểu game, cheat.\n",
    "\n",
    "- Bất tử: ```Runner.prototype.gameOver = function(){}```\n",
    "- Speed slow: ```Runner.instance_.setSpeed(1)```\n",
    "- Nhảy cao: ```Runner.instance_.tRex.setJumpVelocity(10)```\n",
    "- Cần đẩu vân: ```Runner.instance_.tRex.groundYPos = 0```\n",
    "  "
   ]
  },
  {
   "cell_type": "markdown",
   "metadata": {},
   "source": [
    "# Code phần bot Auto-play"
   ]
  },
  {
   "cell_type": "markdown",
   "metadata": {},
   "source": [
    "##### Import các package cần thiết\n",
    "- `Selenium`\n",
    "  - The selenium package is used to automate web browser interaction from Python.\n",
    "  - Several browsers/drivers are supported (Firefox, Chrome, Internet Explorer), as well as the Remote protocol.\n",
    "  - https://www.selenium.dev/documentation/"
   ]
  },
  {
   "cell_type": "code",
   "execution_count": null,
   "metadata": {},
   "outputs": [],
   "source": [
    "from selenium.webdriver.common.keys import Keys\n",
    "from selenium import webdriver\n",
    "from selenium.webdriver.common.by import By\n",
    "\n",
    "from webdriver_manager.chrome import ChromeDriverManager\n",
    "from selenium.webdriver.chrome.service import Service\n",
    "from selenium.webdriver.chrome.options import Options\n"
   ]
  },
  {
   "cell_type": "markdown",
   "metadata": {},
   "source": [
    "##### Config lại trò chơi"
   ]
  },
  {
   "cell_type": "code",
   "execution_count": null,
   "metadata": {},
   "outputs": [],
   "source": [
    "self._driver.execute_script(\"Runner.config.ACCELERATION=0.001\")\n",
    "self._driver.execute_script(\"Runner.config.MAX_SPEED=100\")"
   ]
  },
  {
   "cell_type": "markdown",
   "metadata": {},
   "source": [
    "##### Nhận diện vật thể\n"
   ]
  },
  {
   "cell_type": "markdown",
   "metadata": {},
   "source": []
  },
  {
   "cell_type": "markdown",
   "metadata": {},
   "source": [
    "##### Tính toán khoảng cách từ dino tới chướng ngại vật"
   ]
  },
  {
   "cell_type": "code",
   "execution_count": null,
   "metadata": {},
   "outputs": [],
   "source": [
    "def get_distance_obstacles(self):\n",
    "        fist_of_dino = self._driver.execute_script(\n",
    "            \"return Runner.instance_.tRex.config.WIDTH_DUCK\"\n",
    "        )\n",
    "        x_pos_obstacles = self._driver.execute_script(\n",
    "            \"\"\"\n",
    "                const obstacle = Runner.instance_.horizon.obstacles[0]\n",
    "                if(obstacle){\n",
    "                    return obstacle.xPos\n",
    "                }\n",
    "            \"\"\"\n",
    "        )\n",
    "\n",
    "        if type(fist_of_dino) is int and type(x_pos_obstacles) is int:\n",
    "            return x_pos_obstacles - fist_of_dino\n",
    "        return 0"
   ]
  },
  {
   "cell_type": "markdown",
   "metadata": {},
   "source": [
    "##### Loop tính toán"
   ]
  },
  {
   "cell_type": "code",
   "execution_count": 3,
   "metadata": {},
   "outputs": [
    {
     "name": "stdout",
     "output_type": "stream",
     "text": [
      "Continue open web offline with exception.\n"
     ]
    },
    {
     "ename": "NoSuchWindowException",
     "evalue": "Message: no such window: target window already closed\nfrom unknown error: web view not found\n  (Session info: chrome=116.0.5845.187)\nStacktrace:\n0   chromedriver                        0x000000010ea32638 chromedriver + 5002808\n1   chromedriver                        0x000000010ea29a53 chromedriver + 4966995\n2   chromedriver                        0x000000010e5daa57 chromedriver + 449111\n3   chromedriver                        0x000000010e5ad8a1 chromedriver + 264353\n4   chromedriver                        0x000000010e64c76f chromedriver + 915311\n5   chromedriver                        0x000000010e661976 chromedriver + 1001846\n6   chromedriver                        0x000000010e6471c3 chromedriver + 893379\n7   chromedriver                        0x000000010e612df9 chromedriver + 679417\n8   chromedriver                        0x000000010e613fde chromedriver + 683998\n9   chromedriver                        0x000000010e9ef2d9 chromedriver + 4727513\n10  chromedriver                        0x000000010e9f42de chromedriver + 4747998\n11  chromedriver                        0x000000010e9b22c9 chromedriver + 4477641\n12  chromedriver                        0x000000010e9f502d chromedriver + 4751405\n13  chromedriver                        0x000000010e9c80ec chromedriver + 4567276\n14  chromedriver                        0x000000010ea127f8 chromedriver + 4872184\n15  chromedriver                        0x000000010ea129b7 chromedriver + 4872631\n16  chromedriver                        0x000000010ea22a1f chromedriver + 4938271\n17  libsystem_pthread.dylib             0x00007ff80eed31d3 _pthread_start + 125\n18  libsystem_pthread.dylib             0x00007ff80eecebd3 thread_start + 15\n",
     "output_type": "error",
     "traceback": [
      "\u001b[0;31m---------------------------------------------------------------------------\u001b[0m",
      "\u001b[0;31mNoSuchWindowException\u001b[0m                     Traceback (most recent call last)",
      "\u001b[1;32m/Users/PhucMacbookPro/OtherProject/Tool-AllInOne/notebooks/ML_GA_NN/DinoHardcode_Ver2023.ipynb Cell 16\u001b[0m line \u001b[0;36m9\n\u001b[1;32m      <a href='vscode-notebook-cell:/Users/PhucMacbookPro/OtherProject/Tool-AllInOne/notebooks/ML_GA_NN/DinoHardcode_Ver2023.ipynb#X35sZmlsZQ%3D%3D?line=6'>7</a>\u001b[0m \u001b[39mwhile\u001b[39;00m \u001b[39mTrue\u001b[39;00m:\n\u001b[1;32m      <a href='vscode-notebook-cell:/Users/PhucMacbookPro/OtherProject/Tool-AllInOne/notebooks/ML_GA_NN/DinoHardcode_Ver2023.ipynb#X35sZmlsZQ%3D%3D?line=7'>8</a>\u001b[0m     time\u001b[39m.\u001b[39msleep(\u001b[39m0.01\u001b[39m)\n\u001b[0;32m----> <a href='vscode-notebook-cell:/Users/PhucMacbookPro/OtherProject/Tool-AllInOne/notebooks/ML_GA_NN/DinoHardcode_Ver2023.ipynb#X35sZmlsZQ%3D%3D?line=8'>9</a>\u001b[0m     \u001b[39mif\u001b[39;00m dinoPlayer\u001b[39m.\u001b[39;49mis_obstacle_nearby():\n\u001b[1;32m     <a href='vscode-notebook-cell:/Users/PhucMacbookPro/OtherProject/Tool-AllInOne/notebooks/ML_GA_NN/DinoHardcode_Ver2023.ipynb#X35sZmlsZQ%3D%3D?line=9'>10</a>\u001b[0m         \u001b[39m# dinoPlayer.press_up()\u001b[39;00m\n\u001b[1;32m     <a href='vscode-notebook-cell:/Users/PhucMacbookPro/OtherProject/Tool-AllInOne/notebooks/ML_GA_NN/DinoHardcode_Ver2023.ipynb#X35sZmlsZQ%3D%3D?line=10'>11</a>\u001b[0m         dinoPlayer\u001b[39m.\u001b[39mwrap_press_up()\n",
      "File \u001b[0;32m~/OtherProject/Tool-AllInOne/notebooks/ML_GA_NN/SeleniumHelper.py:175\u001b[0m, in \u001b[0;36mGameDino.is_obstacle_nearby\u001b[0;34m(self, thread_hold)\u001b[0m\n\u001b[1;32m    174\u001b[0m \u001b[39mdef\u001b[39;00m \u001b[39mis_obstacle_nearby\u001b[39m(\u001b[39mself\u001b[39m, thread_hold\u001b[39m=\u001b[39m\u001b[39m80\u001b[39m):\n\u001b[0;32m--> 175\u001b[0m     \u001b[39mreturn\u001b[39;00m \u001b[39m10\u001b[39m \u001b[39m<\u001b[39m \u001b[39mself\u001b[39;49m\u001b[39m.\u001b[39;49mget_distance_obstacles() \u001b[39m<\u001b[39m thread_hold\n",
      "File \u001b[0;32m~/OtherProject/Tool-AllInOne/notebooks/ML_GA_NN/SeleniumHelper.py:151\u001b[0m, in \u001b[0;36mGameDino.get_distance_obstacles\u001b[0;34m(self)\u001b[0m\n\u001b[1;32m    147\u001b[0m \u001b[39mdef\u001b[39;00m \u001b[39mget_distance_obstacles\u001b[39m(\u001b[39mself\u001b[39m):\n\u001b[1;32m    148\u001b[0m     fist_of_dino \u001b[39m=\u001b[39m \u001b[39mself\u001b[39m\u001b[39m.\u001b[39m_driver\u001b[39m.\u001b[39mexecute_script(\n\u001b[1;32m    149\u001b[0m         \u001b[39m\"\u001b[39m\u001b[39mreturn Runner.instance_.tRex.config.WIDTH_DUCK\u001b[39m\u001b[39m\"\u001b[39m\n\u001b[1;32m    150\u001b[0m     )\n\u001b[0;32m--> 151\u001b[0m     x_pos_obstacles \u001b[39m=\u001b[39m \u001b[39mself\u001b[39;49m\u001b[39m.\u001b[39;49m_driver\u001b[39m.\u001b[39;49mexecute_script(\n\u001b[1;32m    152\u001b[0m \u001b[39m        \u001b[39;49m\u001b[39m\"\"\"\u001b[39;49;00m\n\u001b[1;32m    153\u001b[0m \u001b[39m            const obstacle = Runner.instance_.horizon.obstacles[0]\u001b[39;49;00m\n\u001b[1;32m    154\u001b[0m \u001b[39m            if(obstacle){\u001b[39;49;00m\n\u001b[1;32m    155\u001b[0m \u001b[39m                return obstacle.xPos\u001b[39;49;00m\n\u001b[1;32m    156\u001b[0m \u001b[39m            }\u001b[39;49;00m\n\u001b[1;32m    157\u001b[0m \u001b[39m        \"\"\"\u001b[39;49;00m\n\u001b[1;32m    158\u001b[0m     )\n\u001b[1;32m    160\u001b[0m     \u001b[39mif\u001b[39;00m \u001b[39mtype\u001b[39m(fist_of_dino) \u001b[39mis\u001b[39;00m \u001b[39mint\u001b[39m \u001b[39mand\u001b[39;00m \u001b[39mtype\u001b[39m(x_pos_obstacles) \u001b[39mis\u001b[39;00m \u001b[39mint\u001b[39m:\n\u001b[1;32m    161\u001b[0m         \u001b[39mreturn\u001b[39;00m x_pos_obstacles \u001b[39m-\u001b[39m fist_of_dino\n",
      "File \u001b[0;32m~/OtherProject/Tool-AllInOne/.venv/lib/python3.9/site-packages/selenium/webdriver/remote/webdriver.py:404\u001b[0m, in \u001b[0;36mWebDriver.execute_script\u001b[0;34m(self, script, *args)\u001b[0m\n\u001b[1;32m    401\u001b[0m converted_args \u001b[39m=\u001b[39m \u001b[39mlist\u001b[39m(args)\n\u001b[1;32m    402\u001b[0m command \u001b[39m=\u001b[39m Command\u001b[39m.\u001b[39mW3C_EXECUTE_SCRIPT\n\u001b[0;32m--> 404\u001b[0m \u001b[39mreturn\u001b[39;00m \u001b[39mself\u001b[39;49m\u001b[39m.\u001b[39;49mexecute(command, {\u001b[39m\"\u001b[39;49m\u001b[39mscript\u001b[39;49m\u001b[39m\"\u001b[39;49m: script, \u001b[39m\"\u001b[39;49m\u001b[39margs\u001b[39;49m\u001b[39m\"\u001b[39;49m: converted_args})[\u001b[39m\"\u001b[39m\u001b[39mvalue\u001b[39m\u001b[39m\"\u001b[39m]\n",
      "File \u001b[0;32m~/OtherProject/Tool-AllInOne/.venv/lib/python3.9/site-packages/selenium/webdriver/remote/webdriver.py:344\u001b[0m, in \u001b[0;36mWebDriver.execute\u001b[0;34m(self, driver_command, params)\u001b[0m\n\u001b[1;32m    342\u001b[0m response \u001b[39m=\u001b[39m \u001b[39mself\u001b[39m\u001b[39m.\u001b[39mcommand_executor\u001b[39m.\u001b[39mexecute(driver_command, params)\n\u001b[1;32m    343\u001b[0m \u001b[39mif\u001b[39;00m response:\n\u001b[0;32m--> 344\u001b[0m     \u001b[39mself\u001b[39;49m\u001b[39m.\u001b[39;49merror_handler\u001b[39m.\u001b[39;49mcheck_response(response)\n\u001b[1;32m    345\u001b[0m     response[\u001b[39m\"\u001b[39m\u001b[39mvalue\u001b[39m\u001b[39m\"\u001b[39m] \u001b[39m=\u001b[39m \u001b[39mself\u001b[39m\u001b[39m.\u001b[39m_unwrap_value(response\u001b[39m.\u001b[39mget(\u001b[39m\"\u001b[39m\u001b[39mvalue\u001b[39m\u001b[39m\"\u001b[39m, \u001b[39mNone\u001b[39;00m))\n\u001b[1;32m    346\u001b[0m     \u001b[39mreturn\u001b[39;00m response\n",
      "File \u001b[0;32m~/OtherProject/Tool-AllInOne/.venv/lib/python3.9/site-packages/selenium/webdriver/remote/errorhandler.py:229\u001b[0m, in \u001b[0;36mErrorHandler.check_response\u001b[0;34m(self, response)\u001b[0m\n\u001b[1;32m    227\u001b[0m         alert_text \u001b[39m=\u001b[39m value[\u001b[39m\"\u001b[39m\u001b[39malert\u001b[39m\u001b[39m\"\u001b[39m]\u001b[39m.\u001b[39mget(\u001b[39m\"\u001b[39m\u001b[39mtext\u001b[39m\u001b[39m\"\u001b[39m)\n\u001b[1;32m    228\u001b[0m     \u001b[39mraise\u001b[39;00m exception_class(message, screen, stacktrace, alert_text)  \u001b[39m# type: ignore[call-arg]  # mypy is not smart enough here\u001b[39;00m\n\u001b[0;32m--> 229\u001b[0m \u001b[39mraise\u001b[39;00m exception_class(message, screen, stacktrace)\n",
      "\u001b[0;31mNoSuchWindowException\u001b[0m: Message: no such window: target window already closed\nfrom unknown error: web view not found\n  (Session info: chrome=116.0.5845.187)\nStacktrace:\n0   chromedriver                        0x000000010ea32638 chromedriver + 5002808\n1   chromedriver                        0x000000010ea29a53 chromedriver + 4966995\n2   chromedriver                        0x000000010e5daa57 chromedriver + 449111\n3   chromedriver                        0x000000010e5ad8a1 chromedriver + 264353\n4   chromedriver                        0x000000010e64c76f chromedriver + 915311\n5   chromedriver                        0x000000010e661976 chromedriver + 1001846\n6   chromedriver                        0x000000010e6471c3 chromedriver + 893379\n7   chromedriver                        0x000000010e612df9 chromedriver + 679417\n8   chromedriver                        0x000000010e613fde chromedriver + 683998\n9   chromedriver                        0x000000010e9ef2d9 chromedriver + 4727513\n10  chromedriver                        0x000000010e9f42de chromedriver + 4747998\n11  chromedriver                        0x000000010e9b22c9 chromedriver + 4477641\n12  chromedriver                        0x000000010e9f502d chromedriver + 4751405\n13  chromedriver                        0x000000010e9c80ec chromedriver + 4567276\n14  chromedriver                        0x000000010ea127f8 chromedriver + 4872184\n15  chromedriver                        0x000000010ea129b7 chromedriver + 4872631\n16  chromedriver                        0x000000010ea22a1f chromedriver + 4938271\n17  libsystem_pthread.dylib             0x00007ff80eed31d3 _pthread_start + 125\n18  libsystem_pthread.dylib             0x00007ff80eecebd3 thread_start + 15\n"
     ]
    }
   ],
   "source": [
    "from SeleniumHelper import GameDino\n",
    "import time\n",
    "\n",
    "dinoPlayer = GameDino()\n",
    "dinoPlayer.press_up()\n",
    "\n",
    "while True:\n",
    "    time.sleep(0.01)\n",
    "    if dinoPlayer.is_obstacle_nearby():\n",
    "        # dinoPlayer.press_up()\n",
    "        dinoPlayer.wrap_press_up()"
   ]
  },
  {
   "cell_type": "code",
   "execution_count": null,
   "metadata": {},
   "outputs": [],
   "source": [
    "def wrap_press_up(self):\n",
    "    self._driver.execute_script(\n",
    "        \"\"\"\n",
    "    const KEY_CODE_SPACE_BAR = 32\n",
    "    const KEY_CODE_ARROW_DOWN = 40\n",
    "    const CANVAS_HEIGHT = Runner.instance_.dimensions.HEIGHT\n",
    "    const DINO_HEIGHT = Runner.instance_.tRex.config.HEIGHT\n",
    "\n",
    "    const obstacle = Runner.instance_.horizon.obstacles[0]\n",
    "    const speed = Runner.instance_.currentSpeed\n",
    "\n",
    "    if (obstacle) {\n",
    "        const w = obstacle.width\n",
    "        const x = obstacle.xPos // measured from left of canvas\n",
    "        const y = obstacle.yPos // measured from top of canvas\n",
    "        const yFromBottom = CANVAS_HEIGHT - y - obstacle.typeConfig.height\n",
    "        \n",
    "        if (yFromBottom > DINO_HEIGHT) {\n",
    "            // Pterodactyl going from above, do nothing\n",
    "        } else if (y > CANVAS_HEIGHT / 2) {\n",
    "            // cactus\n",
    "            document.dispatchEvent(new KeyboardEvent(\"keyup\", {keyCode: KEY_CODE_ARROW_DOWN}))\n",
    "            document.dispatchEvent(new KeyboardEvent(\"keydown\", {keyCode: KEY_CODE_SPACE_BAR}))\n",
    "        } else {\n",
    "            // Duck\n",
    "            document.dispatchEvent(new KeyboardEvent(\"keydown\", {keyCode: KEY_CODE_ARROW_DOWN}))\n",
    "        }\n",
    "    }\n",
    "        \"\"\"\n",
    "    )"
   ]
  }
 ],
 "metadata": {
  "kernelspec": {
   "display_name": ".venv",
   "language": "python",
   "name": "python3"
  },
  "language_info": {
   "codemirror_mode": {
    "name": "ipython",
    "version": 3
   },
   "file_extension": ".py",
   "mimetype": "text/x-python",
   "name": "python",
   "nbconvert_exporter": "python",
   "pygments_lexer": "ipython3",
   "version": "3.9.6"
  },
  "orig_nbformat": 4
 },
 "nbformat": 4,
 "nbformat_minor": 2
}
