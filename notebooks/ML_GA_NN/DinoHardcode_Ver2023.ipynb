{
 "cells": [
  {
   "cell_type": "markdown",
   "metadata": {},
   "source": [
    "# Pre-condition: Setup Environment, download and install Lib"
   ]
  },
  {
   "cell_type": "code",
   "execution_count": null,
   "metadata": {
    "vscode": {
     "languageId": "shellscript"
    }
   },
   "outputs": [],
   "source": [
    "# !.venv/bin/activate \n",
    "%pip install selenium\n",
    "%pip install Pillow\n",
    "%pip install webdriver-manager\n"
   ]
  },
  {
   "cell_type": "markdown",
   "metadata": {},
   "source": [
    "# Ý tưởng thực hiện\n",
    "\n",
    "<img src=\"image.png\" alt=\"drawing\" width=\"65%\"/>\n",
    "\n",
    "\n",
    "- Xây dựng con bot chơi game, cụ thể ở đây chọn game Dino (chrome://dino/).\n",
    "- Lí do:\n",
    "  - Game có cách thức chơi rất đơn giản -> dễ tạo bot hơn.\n",
    "  - Tạo được bot game đơn giản trước rồi mở rộng ý tưởng cho các game phức tạp hơn cũng dễ."
   ]
  },
  {
   "cell_type": "markdown",
   "metadata": {},
   "source": [
    "# Ý tưởng Auto-play\n",
    "\n",
    "- Tốc độ của máy móc nhanh con người ->\n",
    "  - Check vùng trước mặt của dino có chướng ngại vật, nếu có thì action để né.\n",
    "- Sự mạnh mẽ và bền bĩ của máy móc hơn con người ->\n",
    "  - Loop điều kiện trên liên tục để chẹck trong khoảng thời gian 1s, 0.5s, 0,1s... một cách nhanh nhất tuỳ vào CPU, GPU của máy.\n",
    "- Máy móc chưa thông minh hơn con người ?"
   ]
  },
  {
   "cell_type": "markdown",
   "metadata": {},
   "source": [
    "# Tìm hiểu game, cheat.\n",
    "\n",
    "- Bất tử: ```Runner.prototype.gameOver = function(){}```\n",
    "- Speed slow: ```Runner.instance_.setSpeed(1)```\n",
    "- Nhảy cao: ```Runner.instance_.tRex.setJumpVelocity(10)```\n",
    "- Cần đẩu vân: ```Runner.instance_.tRex.groundYPos = 0```\n",
    "  "
   ]
  },
  {
   "cell_type": "markdown",
   "metadata": {},
   "source": [
    "# Code phần bot Auto-play"
   ]
  },
  {
   "cell_type": "markdown",
   "metadata": {},
   "source": [
    "##### Import các package cần thiết\n",
    "- `Selenium`\n",
    "  - The selenium package is used to automate web browser interaction from Python.\n",
    "  - Several browsers/drivers are supported (Firefox, Chrome, Internet Explorer), as well as the Remote protocol.\n",
    "  - https://www.selenium.dev/documentation/"
   ]
  },
  {
   "cell_type": "code",
   "execution_count": null,
   "metadata": {},
   "outputs": [],
   "source": [
    "from selenium.webdriver.common.keys import Keys\n",
    "from selenium import webdriver\n",
    "from selenium.webdriver.common.by import By\n",
    "\n",
    "from webdriver_manager.chrome import ChromeDriverManager\n",
    "from selenium.webdriver.chrome.service import Service\n",
    "from selenium.webdriver.chrome.options import Options\n"
   ]
  },
  {
   "cell_type": "markdown",
   "metadata": {},
   "source": [
    "##### Nhận diện vật thể\n",
    "\n",
    "- chướng ngại vật: `Runner.instance_.horizon.obstacles[0]`\n",
    "- Dino: `Runner.instance_.tRex`\n",
    "- "
   ]
  },
  {
   "cell_type": "markdown",
   "metadata": {},
   "source": [
    "##### Tính toán khoảng cách từ dino tới chướng ngại vật"
   ]
  },
  {
   "cell_type": "code",
   "execution_count": null,
   "metadata": {},
   "outputs": [],
   "source": [
    "def get_distance_obstacles(self):\n",
    "        fist_of_dino = self._driver.execute_script(\n",
    "            \"return Runner.instance_.tRex.config.WIDTH_DUCK\"\n",
    "        )\n",
    "        x_pos_obstacles = self._driver.execute_script(\n",
    "            \"\"\"\n",
    "                const obstacle = Runner.instance_.horizon.obstacles[0]\n",
    "                if(obstacle){\n",
    "                    return obstacle.xPos\n",
    "                }\n",
    "            \"\"\"\n",
    "        )\n",
    "\n",
    "        if type(fist_of_dino) is int and type(x_pos_obstacles) is int:\n",
    "            return x_pos_obstacles - fist_of_dino\n",
    "        return 0"
   ]
  },
  {
   "cell_type": "markdown",
   "metadata": {},
   "source": [
    "##### Loop tính toán"
   ]
  },
  {
   "cell_type": "code",
   "execution_count": null,
   "metadata": {},
   "outputs": [],
   "source": [
    "from SeleniumHelper import GameDino\n",
    "import time\n",
    "\n",
    "dinoPlayer = GameDino()\n",
    "dinoPlayer.press_up()\n",
    "\n",
    "while True:\n",
    "    time.sleep(0.01)\n",
    "    if dinoPlayer.is_obstacle_nearby():\n",
    "        # dinoPlayer.press_up()\n",
    "        dinoPlayer.wrap_press_up()"
   ]
  },
  {
   "cell_type": "code",
   "execution_count": null,
   "metadata": {},
   "outputs": [],
   "source": [
    "def wrap_press_up(self):\n",
    "    self._driver.execute_script(\n",
    "        \"\"\"\n",
    "    const KEY_CODE_SPACE_BAR = 32\n",
    "    const KEY_CODE_ARROW_DOWN = 40\n",
    "    const CANVAS_HEIGHT = Runner.instance_.dimensions.HEIGHT\n",
    "    const DINO_HEIGHT = Runner.instance_.tRex.config.HEIGHT\n",
    "\n",
    "    const obstacle = Runner.instance_.horizon.obstacles[0]\n",
    "    const speed = Runner.instance_.currentSpeed\n",
    "\n",
    "    if (obstacle) {\n",
    "        const w = obstacle.width\n",
    "        const x = obstacle.xPos // measured from left of canvas\n",
    "        const y = obstacle.yPos // measured from top of canvas\n",
    "        const yFromBottom = CANVAS_HEIGHT - y - obstacle.typeConfig.height\n",
    "        \n",
    "        if (yFromBottom > DINO_HEIGHT) {\n",
    "            // Pterodactyl going from above, do nothing\n",
    "        } else if (y > CANVAS_HEIGHT / 2) {\n",
    "            // cactus\n",
    "            document.dispatchEvent(new KeyboardEvent(\"keyup\", {keyCode: KEY_CODE_ARROW_DOWN}))\n",
    "            document.dispatchEvent(new KeyboardEvent(\"keydown\", {keyCode: KEY_CODE_SPACE_BAR}))\n",
    "        } else {\n",
    "            // Duck\n",
    "            document.dispatchEvent(new KeyboardEvent(\"keydown\", {keyCode: KEY_CODE_ARROW_DOWN}))\n",
    "        }\n",
    "    }\n",
    "        \"\"\"\n",
    "    )"
   ]
  }
 ],
 "metadata": {
  "kernelspec": {
   "display_name": "Python 3 (ipykernel)",
   "language": "python",
   "name": "python3"
  },
  "language_info": {
   "codemirror_mode": {
    "name": "ipython",
    "version": 3
   },
   "file_extension": ".py",
   "mimetype": "text/x-python",
   "name": "python",
   "nbconvert_exporter": "python",
   "pygments_lexer": "ipython3",
   "version": "3.9.6"
  }
 },
 "nbformat": 4,
 "nbformat_minor": 4
}
