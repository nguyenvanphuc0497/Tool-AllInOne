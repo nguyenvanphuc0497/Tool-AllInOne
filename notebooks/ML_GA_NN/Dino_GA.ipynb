{
 "cells": [
  {
   "cell_type": "markdown",
   "metadata": {},
   "source": [
    "# Quy định khi triển khai GA\n",
    "\n",
    "- Lựa chọn encoding, mutation(đột biến): mình chọn cách chuyển các layer (weights, bias của các matrix giữa các lớp) thành 1 sequence và coi sequence này là chromosome (bạn có thể hiểu là DNA). Về phần mutation, với mỗi số trong sequence, mình sẽ có 1 xác suất nhỏ số đấy sẽ được cộng với 1 số random nào đó (khá nhỏ so với số này).\n",
    "\n",
    "- Lựa chọn hàm fitness: thay vì lấy điểm số màn chơi làm hàm fitness, mình đánh giá bot nào tốt hơn bằng cách xem bot nào xử lý các cây xương rồng tốt hơn, nghĩa là lấy số cây xương rồng mà bot vượt qua được làm hàm fitness.\n",
    "\n",
    "- Lựa chọn population, survival: mình chọn population là 12. Thực ra mình thấy 12 hơi nhỏ và có lẽ 50 là con số tốt hơn, nhưng bởi vì training trên môi trường bình thường nên khá chậm. Ví dụ như 1 cá thể tốt có thể đạt tới 500 điểm, như vậy sẽ mất vài phút để chạy xong, và như vậy 1 generation sẽ mất vài tiếng để pass tới generation mới. Về \bsurvival, mình chọn 4 cá thể có hàm fitness cao nhất để nhân giống cho thế hệ sau. Sau khi thực hiện xong project, mình nghĩ nên chọn nhiều cá thể hơn làm cha mẹ, như vậy sẽ tăng thời gian training nhưng có thể đạt được hội tụ tốt hơn. Tuy nhiên kết quả project dù sao cũng tốt với thiệt lập như này.\n",
    "\n",
    "- Lựa chọn cách crossover: mình chọn cách cắt đôi sequence để thực hiện crossover. Do ghép từ 2 cặp cắt đôi (là có cắt weights và bias) nên sẽ có 4 kết quả. Mình chọn random trong 4 kết quả này. Bạn có thể hình dung thông qua minh hoạ dưới đây. Do chỉ có 4 cha mẹ cho 1 generation mới, mình lựa chọn 1 cá thể có thể nhân giống với chính nó."
   ]
  },
  {
   "cell_type": "markdown",
   "metadata": {},
   "source": [
    "# Code phần GA"
   ]
  }
 ],
 "metadata": {
  "language_info": {
   "name": "python"
  },
  "orig_nbformat": 4
 },
 "nbformat": 4,
 "nbformat_minor": 2
}
