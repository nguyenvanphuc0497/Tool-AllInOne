{
 "cells": [
  {
   "cell_type": "markdown",
   "metadata": {},
   "source": [
    "Kích thước chướng ngại vật"
   ]
  },
  {
   "cell_type": "code",
   "execution_count": null,
   "metadata": {},
   "outputs": [],
   "source": [
    "def get_size_of_obstacle(self):\n",
    "    return self._driver.execute_script(\n",
    "        \"\"\"\n",
    "            const obstacle = Runner.instance_.horizon.obstacles[0]\n",
    "            if (obstacle) {\n",
    "                return obstacle.width\n",
    "            }\n",
    "            return 0\n",
    "        \"\"\"\n",
    "    )"
   ]
  },
  {
   "cell_type": "markdown",
   "metadata": {},
   "source": [
    "Khoảng cách từ Dino tới obstacles"
   ]
  },
  {
   "cell_type": "code",
   "execution_count": null,
   "metadata": {},
   "outputs": [],
   "source": [
    "def get_distance_obstacles(self):\n",
    "    fist_of_dino = self._driver.execute_script(\n",
    "        \"return Runner.instance_.tRex.config.WIDTH_DUCK\"\n",
    "    )\n",
    "    x_pos_obstacles = self._driver.execute_script(\n",
    "        \"\"\"\n",
    "                const obstacle = Runner.instance_.horizon.obstacles[0]\n",
    "                if(obstacle){\n",
    "                    return obstacle.xPos\n",
    "                }\n",
    "            \"\"\"\n",
    "    )\n",
    "\n",
    "    if type(fist_of_dino) is int and type(x_pos_obstacles) is int:\n",
    "        return x_pos_obstacles - fist_of_dino\n",
    "    return 0"
   ]
  },
  {
   "cell_type": "markdown",
   "metadata": {},
   "source": [
    "Tốc độ hiện tại màn chơi"
   ]
  },
  {
   "cell_type": "code",
   "execution_count": null,
   "metadata": {},
   "outputs": [],
   "source": [
    "def get_current_speed(self):\n",
    "    currentSpeed = self._driver.execute_script(\n",
    "        \"return Runner.instance_.currentSpeed\"\n",
    "    )\n",
    "    return float(currentSpeed)"
   ]
  },
  {
   "cell_type": "markdown",
   "metadata": {},
   "source": [
    "Get điểm số của trò chơi"
   ]
  },
  {
   "cell_type": "code",
   "execution_count": null,
   "metadata": {},
   "outputs": [],
   "source": [
    "def get_score(self):\n",
    "    score_array = self._driver.execute_script(\n",
    "        \"return Runner.instance_.distanceMeter.digits\")\n",
    "    # the javascript object is of type array with score in the formate[1,0,0] which is 100.\n",
    "    score = ''.join(score_array)\n",
    "    if score == \"\":\n",
    "        score = \"0\"\n",
    "    return int(score)"
   ]
  }
 ],
 "metadata": {
  "language_info": {
   "name": "python"
  },
  "orig_nbformat": 4
 },
 "nbformat": 4,
 "nbformat_minor": 2
}
